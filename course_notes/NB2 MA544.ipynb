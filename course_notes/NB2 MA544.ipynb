{
 "cells": [
  {
   "cell_type": "markdown",
   "metadata": {
    "slideshow": {
     "slide_type": "slide"
    }
   },
   "source": [
    "## Week 2 MA544\n",
    "---\n",
    "**Agenda**\n",
    "1. Revise Eigenvalues and Eigenvectors\n",
    "1. Norms of Vectors and Matrices\n",
    "1. Special Matrices \n",
    "1. Finite Precision Mathematics on a Computer"
   ]
  },
  {
   "cell_type": "code",
   "execution_count": 2,
   "metadata": {
    "slideshow": {
     "slide_type": "skip"
    }
   },
   "outputs": [],
   "source": [
    "#IMPORT\n",
    "import numpy as np\n",
    "import matplotlib.pyplot as plt\n",
    "import matplotlib.image as mpimg\n",
    "%matplotlib inline\n",
    "\n",
    "#from ipywidgets import interact, interactive, fixed, interact_manual\n",
    "#import ipywidgets as widgets\n",
    "\n",
    "## Set a seed for the random number generator\n",
    "np.random.seed(100)"
   ]
  },
  {
   "cell_type": "markdown",
   "metadata": {
    "slideshow": {
     "slide_type": "slide"
    }
   },
   "source": [
    "### Eigenvalues and eigenvectors\n",
    "<hr>\n",
    "\n",
    "An eigenvector of a square matrix $A$ is a special non-zero vector such that\n",
    "$$ A v  = \\lambda v$$\n",
    "where $\\lambda$ is called the associated eigenvalue.\n",
    "\n",
    "**Example**: Find the eigenvalues and eigenvectors of \n",
    "$\n",
    "A = \\left( \\begin{array}{cc} 2 & 4  \\\\\n",
    "1 & -1 \n",
    "\\end{array}\n",
    "\\right) \n",
    "$\n",
    "##### Discussion about solving characteristic polynomials.\n",
    "**Example** Find the eigenvalues of the matrix $B = f(A)$ where $f(x) = x^2-3x +5$.\n",
    "\n",
    "\n",
    "---\n",
    "### Eigen-decomposition\n",
    "\n",
    "If the square matrix $A\\in \\mathbb{C}^{n\\times n}$ has $n$ linearly independent eigenvectors  then $A$ can be given in the following factorized form as\n",
    "$$\n",
    "A = Q \\Lambda Q^{-1},\n",
    "$$\n",
    "where $\\Lambda = $ diag$(\\lambda_1, \\cdots, \\lambda_n)$ and columns of matrix $Q$ are made of the eigenvector $q_i$ of $A$ $(i=1,\\cdots,n)$, arranged in the same order as the eigenvalues in $\\Lambda$.\n",
    ">- When $A$ is a real and symmetric matrix: $A = Q \\Lambda Q^T$, where $Q$ is orthogonal $(Q^TQ = I = QQ^T)$ and $\\Lambda$ is made of real diagonal entries.\n",
    ">- If a function $f(x)$ has power series expansion in $x$, then $f(A) = Q f(\\Lambda) Q^{-1}$.\n",
    "\n",
    "#### Discussion on Spectral Decomposition and Projection\n",
    "\n"
   ]
  },
  {
   "cell_type": "markdown",
   "metadata": {
    "slideshow": {
     "slide_type": "skip"
    }
   },
   "source": [
    "### Invertibility: A discussion\n",
    "---\n",
    "Please go to POLL EVERYWHERE for a quiz to visit the properties of inverses."
   ]
  },
  {
   "cell_type": "code",
   "execution_count": 5,
   "metadata": {
    "slideshow": {
     "slide_type": "skip"
    }
   },
   "outputs": [
    {
     "name": "stdout",
     "output_type": "stream",
     "text": [
      " Matrix A:\n",
      " [[2 3 2 5]\n",
      " [8 1 0 7]\n",
      " [6 2 0 8]\n",
      " [2 5 1 8]] \n",
      "\n",
      " Inverse if A:\n",
      " [[  -0.10714    0.60714   -0.67857    0.21429]\n",
      " [  -0.39286    0.89286   -1.32143    0.78571]\n",
      " [   0.75000   -0.25000    0.25000   -0.50000]\n",
      " [   0.17857   -0.67857    0.96429   -0.35714]]\n",
      "Verify inverse:\n",
      " [[   1.00000   -0.00000    0.00000    0.00000]\n",
      " [   0.00000    1.00000    0.00000   -0.00000]\n",
      " [   0.00000    0.00000    1.00000    0.00000]\n",
      " [   0.00000   -0.00000    0.00000    1.00000]]\n"
     ]
    }
   ],
   "source": [
    "## This setting restricts the dispaly of decimals to simpler forms\n",
    "np.set_printoptions(formatter={'float': lambda x: \"{0:10.5f}\".format(x)})\n",
    "\n",
    "## Generate matrix of randoem integers for experiment\n",
    "A = np.random.randint(0,9, size=(4,4))\n",
    "\n",
    "##Finding inverse of a square matrix.\n",
    "invA = np.linalg.inv(A) \n",
    "\n",
    "print(\" Matrix A:\\n\",A,\"\\n\\n Inverse if A:\\n\", invA)\n",
    "\n",
    "print (\"Verify inverse:\\n\",np.dot(A,invA))"
   ]
  },
  {
   "cell_type": "markdown",
   "metadata": {
    "slideshow": {
     "slide_type": "skip"
    }
   },
   "source": [
    "### Vector and Matrix Norms\n",
    "---\n",
    "Continued on the whiteboard and worksheet.\n",
    "\n",
    "#### Manhattan distance (Taxi-cab distnace)\n",
    "<div style=\"width:500px\">\n",
    "<img src=\"./images/Manhattan_distance.png\" width=50%/>\n",
    "</div>\n",
    "\n",
    "[Image Source](https://en.wikipedia.org/wiki/Taxicab_geometry#/media/File:Manhattan_distance.svg)\n"
   ]
  },
  {
   "cell_type": "markdown",
   "metadata": {
    "collapsed": true,
    "slideshow": {
     "slide_type": "skip"
    }
   },
   "source": [
    "In general, a norm is any function that assigns a real number to any vector, $\\|\\cdot\\|: V \\to \\mathbb{R}$, and that satisfies the following properties\n",
    "  \n",
    ">1. Nonnegativity: $\\|\\bf{v}\\| \\geq 0$.\n",
    ">1. Definiteness:  $\\|\\bf{v}\\| = 0 \\Leftrightarrow \\bf{v}=0$.\n",
    ">1. Homegeneity: For any real number $\\alpha$,  $\\|\\alpha \\bf{v}\\| = |\\alpha| \\|\\bf{v}\\|$.\n",
    ">1. Triangle law: $\\|\\bf{u} + \\bf{v}\\| \\leq \\|\\bf{u}\\| + \\|\\bf{v}\\|$.\n",
    "  \n",
    "  EXAMPLES \n",
    "  \n",
    ">- $l_1$ norm\n",
    "<img src=\"./images/NormL1.png\" width=60%/>\n",
    "\n",
    ">- $l_2$ norm\n",
    "<img src=\"./images/NormL2.png\" width=60%/>\n",
    "\n",
    ">- $l_{p}$ norm\n",
    "<img src=\"./images/NormLp.png\" width=60%/>\n",
    "\n",
    ">- $l_{\\infty}$ norm\n",
    "$$ \\|x\\|_{\\infty} = \\max_{i=1,\\cdots,n} |x_i|$$\n",
    "\n",
    "**Example** Determine if the expression  defines a norm on $\\mathbb{R}^n$: \n",
    "$$\n",
    "f({\\bf x}) = \\sum\\limits_{i=1}^n |x_i|^3.\n",
    "$$"
   ]
  },
  {
   "cell_type": "markdown",
   "metadata": {},
   "source": [
    "#### Unit circles in $\\mathbb{R}^2$:  $\\|x\\|_1 \\leq 1$ and $\\|x\\|_2 \\leq 1$\n",
    "<img src=\"https://upload.wikimedia.org/wikipedia/commons/f/f8/L1_and_L2_balls.svg\" width=\"80%\" />\n",
    "\n",
    "[Image Source: WikiMedia](https://upload.wikimedia.org/wikipedia/commons/f/f8/L1_and_L2_balls.svg)"
   ]
  },
  {
   "cell_type": "markdown",
   "metadata": {
    "collapsed": true,
    "slideshow": {
     "slide_type": "skip"
    }
   },
   "source": [
    "### Matrix norms \n",
    "Matrix norms could be defined as an extension of vector norms by considering matrices as $mn$-dimensional vectors.\n",
    "#### Frobenius Norms\n",
    "$$\n",
    "\\|A\\|_F = \\left( \\sum\\limits_{i=1}^m \\sum\\limits_{j=1}^n a_{i,j}^2 \\right)^{1/2}.\n",
    "$$\n",
    "\n",
    "**Example**: Verify that $\\|A\\|_F = \\sqrt{\\operatorname{tr}(A^T A) }$.\n"
   ]
  },
  {
   "cell_type": "markdown",
   "metadata": {},
   "source": []
  },
  {
   "cell_type": "markdown",
   "metadata": {},
   "source": [
    "\n",
    "\n",
    "##### Matrix Norm Induced by a Vector Norm\n",
    "$$\n",
    "\\| A\\| = \\textrm{sup} \\left\\{   \\|Au\\|: u \\in \\mathbb{R}^n, \\|u\\| = 1 \\right\\}\n",
    "$$\n",
    "\n",
    " An important consequence is that the subordinate norm also satisfies\n",
    "$$\n",
    "\\|A x\\| \\leq \\|A\\| \\|x\\|\n",
    "$$\n",
    "$$\n",
    "\\|A B\\| \\leq \\|A\\| \\|B\\|\n",
    "$$\n",
    "$$\n",
    "\\|I\\| = 1\n",
    "$$\n",
    "EXAMPLES\n",
    "\n",
    ">- The subordinate matrix norm induced by  $\\|\\cdot\\|_{\\infty}$, called max-row-sum norm, is given by\n",
    "$$\n",
    "\\|A\\|_{\\infty} = \\textrm{max}_{1 \\leq i \\leq n} \\sum\\limits_{j=1}^{n} |a_{ij}|\n",
    "$$\n",
    "\n",
    ">- The subordinate matrix norm induced by  $\\|\\cdot\\|_{1}$, called max-column-sum norm, is given by\n",
    "$$\n",
    "\\|A\\|_{1} = \\textrm{max}_{1 \\leq j \\leq n} \\sum\\limits_{i=1}^{n} |a_{ij}|\n",
    "$$\n",
    "\n",
    ">- The subordinate matrix norm induced by  $\\|\\cdot\\|_{2}$, called spectral norm, is given by\n",
    "$$\n",
    "\\|A\\|_{2} = \\sqrt{\\rho(A^T A)}\n",
    "$$"
   ]
  },
  {
   "cell_type": "code",
   "execution_count": 8,
   "metadata": {},
   "outputs": [
    {
     "name": "stdout",
     "output_type": "stream",
     "text": [
      "D1 and its norm: \n",
      " [[ 1  1]\n",
      " [ 1 -1]]\n",
      "2.0\n",
      "D1 and its norm: \n",
      " [[ 1  2 -1]\n",
      " [ 3  4 -6]]\n",
      "8.18535277187245\n"
     ]
    }
   ],
   "source": [
    "# NORM : Euclidean, Frobenius\n",
    "\n",
    "D1 = np.array([[1,1],[1,-1]])\n",
    "print (\"D1 and its norm: \\n\", D1)\n",
    "print (np.linalg.norm(D1))\n",
    "\n",
    "D2 = np.array([[1,2, -1],[3,4, -6]])\n",
    "print (\"D1 and its norm: \\n\", D2)\n",
    "print (np.linalg.norm(D2))\n",
    "\n",
    "np.linalg.norm\n",
    "\n",
    "#print np.linalg.norm(D2, ord=np.inf)"
   ]
  },
  {
   "cell_type": "markdown",
   "metadata": {},
   "source": [
    "### Some Special Matrices\n",
    "***\n",
    "- Symmetric ans Skew-symmetric Matrics\n",
    "- Upper and Lower Triangular Matrices\n",
    "- Banded Matrices\n",
    "- Orthogonal and Unitary Matrices\n",
    "- Positive definite, positive semidefinite matrices\n",
    "- Negative definite, negative semidefinite matrices\n",
    "- Indefinite Matrices\n",
    "- Permutation Matrix\n",
    "- Diagonally Dominant Matrices\n",
    "- Nonnegative Matrices"
   ]
  },
  {
   "cell_type": "code",
   "execution_count": null,
   "metadata": {},
   "outputs": [],
   "source": []
  }
 ],
 "metadata": {
  "kernelspec": {
   "display_name": "Python 3",
   "language": "python",
   "name": "python3"
  },
  "language_info": {
   "codemirror_mode": {
    "name": "ipython",
    "version": 3
   },
   "file_extension": ".py",
   "mimetype": "text/x-python",
   "name": "python",
   "nbconvert_exporter": "python",
   "pygments_lexer": "ipython3",
   "version": "3.8.5"
  }
 },
 "nbformat": 4,
 "nbformat_minor": 2
}
