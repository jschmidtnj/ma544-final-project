{
 "cells": [
  {
   "cell_type": "markdown",
   "metadata": {},
   "source": [
    "## Week 3 MA544\n",
    "---\n",
    "**Objectives and Plan**\n",
    "\n",
    "1. Pseudo-inverse (Perron-Frobenius inverse) Properties\n",
    "1. Linear Systems of Equations and Gaussian Elimination with pivoting\n",
    "1. LU Decomposition of A\n",
    "1. QR Decomposition of a matrix\n",
    "1. Iterative solution of Linear Systems"
   ]
  },
  {
   "cell_type": "code",
   "execution_count": 4,
   "metadata": {},
   "outputs": [],
   "source": [
    "\n",
    "#IMPORT\n",
    "import numpy as np\n",
    "import matplotlib.pyplot as plt\n",
    "import matplotlib.image as mpimg\n",
    "%matplotlib inline\n",
    "\n",
    "from ipywidgets import interact, interactive, fixed, interact_manual\n",
    "import ipywidgets as widgets\n",
    "\n",
    "## Set a seed for the random number generator\n",
    "np.random.seed(100)"
   ]
  },
  {
   "cell_type": "markdown",
   "metadata": {},
   "source": [
    "## Linear System of Equations\n",
    "---\n",
    "Consider the following system of $m$ linear equations in $n$ variables.\n",
    "\\begin{align}\n",
    "a_{11} x_1 + a_{12} x_2  + \\cdots + a_{1n} x_n  &= b_1 \\\\\n",
    "a_{21} x_1 + a_{22} x_2  + \\cdots + a_{2n} x_n  &= b_2 \\\\\n",
    " \\vdots \\qquad \\qquad   & \\ \\\\\n",
    "a_{m1} x_1 + a_{m2} x_2  + \\cdots + a_{mn} x_n  &= b_ m,\n",
    "\\end{align}\n",
    "\n",
    "-  The solution of a linear system represents the **point of intersection of hyperplanes**\n",
    "\n",
    "$$\n",
    " x_1 \\begin{pmatrix}a_{11}\\\\a_{21}\\\\ \\vdots \\\\a_{m1}\\end{pmatrix} +\n",
    " x_2 \\begin{pmatrix}a_{12}\\\\a_{22}\\\\ \\vdots \\\\a_{m2}\\end{pmatrix} +\n",
    " \\cdots +\n",
    " x_n \\begin{pmatrix}a_{1n}\\\\a_{2n}\\\\ \\vdots \\\\a_{mn}\\end{pmatrix}\n",
    " =\n",
    " \\begin{pmatrix}b_1\\\\b_2\\\\ \\vdots \\\\b_m\\end{pmatrix}\n",
    " $$\n",
    " \n",
    " \n",
    "-  The solution also represents the **linear coding of the columns** of a matrix $A$ to get a vector $b$ in the column space ($\\mathcal{R}(A)$).\n",
    " \n",
    "- The system could be represented in a compact form as $Ax = b$, where \n",
    " $$\n",
    " A=\n",
    "\\begin{pmatrix}\n",
    "a_{11} & a_{12} & \\cdots & a_{1n} \\\\\n",
    "a_{21} & a_{22} & \\cdots & a_{2n} \\\\\n",
    "\\vdots & \\vdots & \\ddots & \\vdots \\\\\n",
    "a_{m1} & a_{m2} & \\cdots & a_{mn}\n",
    "\\end{pmatrix},\\quad\n",
    "\\mathbf{x}=\n",
    "\\begin{pmatrix}\n",
    "x_1 \\\\\n",
    "x_2 \\\\\n",
    "\\vdots \\\\\n",
    "x_n\n",
    "\\end{pmatrix},\\quad\n",
    "\\mathbf{b}=\n",
    "\\begin{pmatrix}\n",
    "b_1 \\\\\n",
    "b_2 \\\\\n",
    "\\vdots \\\\\n",
    "b_m\n",
    "\\end{pmatrix}\n",
    "$$"
   ]
  },
  {
   "cell_type": "markdown",
   "metadata": {},
   "source": [
    ">- The system is called...\n",
    ">>- overdetermined when $m > n$.\n",
    ">>- underdetermined when $ m < n$."
   ]
  },
  {
   "cell_type": "markdown",
   "metadata": {},
   "source": [
    "## Gaussian elimination with scaled-row partial pivoting\n",
    "---\n",
    ">- What is the need for pivoting?\n",
    ">- How can you find a factorization of the matrix by using the followign code.\n",
    ">- How can you modify the code to find the determinant of a matrix?\n",
    ">- How can you modify the following code to solve a linear system?\n",
    ">- How can you modify the code to find the inverse of a matrix?\n"
   ]
  },
  {
   "cell_type": "code",
   "execution_count": 5,
   "metadata": {},
   "outputs": [],
   "source": [
    "## Gaussian Elimination: Scaled Row Pivoting\n",
    "## This function is based on the pseudo-code on page-148 in the Text by Kincaid and Cheney\n",
    "def GE_rsp(A):\n",
    "    '''\n",
    "    This function returns the P'LU factorization of a square matrix A\n",
    "    by scaled row partial pivoting. \n",
    "    In place of returning L and U, elements of modified A are used to hold values of L and U.\n",
    "    '''\n",
    "    m,n = A.shape\n",
    "    \n",
    "    L = np.eye(n) # Not being used\n",
    "    U = np.zeros_like(A) # Not being used\n",
    "    if m !=n:\n",
    "        sys.exit(\"This function needs a square matrix as an input.\")\n",
    "        \n",
    "    # The initial ordering of rows\n",
    "    p = list(range(n))\n",
    "    \n",
    "    # Scaling vector: absolute maximum elements of each row\n",
    "    s = np.max(np.abs(A), axis=1)\n",
    "    \n",
    "    print(\"Scaling Vector: \",s)\n",
    "    \n",
    "    # Start the k-1 passes of Guassian Elimination on A\n",
    "    for k in range(n-1):\n",
    "        \n",
    "        print(\"\\n PASS {}: \\n\".format(k+1), A)\n",
    "        # Find the pivot element and interchange the rows\n",
    "        pivot_index = k + np.argmax(np.abs(A[p[k:], k])/s[p[k:]])        \n",
    "        \n",
    "        # Interchange element in the permutation vector\n",
    "        if pivot_index !=k:\n",
    "            temp = p[k]\n",
    "            p[k]=p[pivot_index]\n",
    "            p[pivot_index] = temp\n",
    "            print(\"permutation vector: \",p)\n",
    "            \n",
    "        print(\"\\n Pivot Element: {0:.2f} \\n\".format(A[p[k],k]))\n",
    "        if np.abs(A[p[k],k]) < 10**(-20):\n",
    "             sys.exit(\"ERROR!! Provided matrix is singular.\")\n",
    "        \n",
    "        # For the k-th pivot row Perform the Gaussian elimination on the following rows\n",
    "        for i in range(k+1, n):\n",
    "            # Find the multiplier\n",
    "            z = A[p[i],k]/A[p[k],k]\n",
    "            \n",
    "            #Save z in A itself. You can save this in L also\n",
    "            A[p[i],k] = z\n",
    "            \n",
    "            #Elimination operation: Changes all elements in a row simultaneously\n",
    "            ##\n",
    "            A[p[i],k+1:] -= z*A[p[k],k+1:]\n",
    "    return A, p"
   ]
  },
  {
   "cell_type": "code",
   "execution_count": 6,
   "metadata": {},
   "outputs": [
    {
     "name": "stdout",
     "output_type": "stream",
     "text": [
      "\n",
      " Given A: \n",
      "  [[1. 6. 0.]\n",
      " [2. 1. 0.]\n",
      " [0. 2. 1.]]\n",
      "Scaling Vector:  [6. 2. 2.]\n",
      "\n",
      " PASS 1: \n",
      " [[1. 6. 0.]\n",
      " [2. 1. 0.]\n",
      " [0. 2. 1.]]\n",
      "permutation vector:  [1, 0, 2]\n",
      "\n",
      " Pivot Element: 2.00 \n",
      "\n",
      "\n",
      " PASS 2: \n",
      " [[0.5 5.5 0. ]\n",
      " [2.  1.  0. ]\n",
      " [0.  2.  1. ]]\n",
      "permutation vector:  [1, 2, 0]\n",
      "\n",
      " Pivot Element: 2.00 \n",
      "\n",
      "\n",
      " After Gaussian Elimination with RSPP: \n",
      " [[ 0.5   2.75 -2.75]\n",
      " [ 2.    1.    0.  ]\n",
      " [ 0.    2.    1.  ]]\n",
      "\n",
      " The permutation Vector is: \n",
      " [1, 2, 0]\n"
     ]
    }
   ],
   "source": [
    "## Example on page number 146 (Kincaid Cheney).\n",
    "## Example solved manually in class\n",
    "# A = np.array([[2, 3, -6], [1,-6,8], [3, -2, 1]], dtype=float)\n",
    "A = np.array([[1, 6, 0], [2,1,0], [0, 2, 1]], dtype=float)\n",
    "print(\"\\n Given A: \\n \",A)\n",
    "A,p =GE_rsp(A)\n",
    "print(\"\\n After Gaussian Elimination with RSPP: \\n\", A)\n",
    "print(\"\\n The permutation Vector is: \\n\", p)\n"
   ]
  },
  {
   "cell_type": "markdown",
   "metadata": {},
   "source": [
    "### LU Factorization \n",
    "---\n",
    "One can use the Gaussian elimination to decompose the matrix A as follows\n",
    "$$\n",
    "P A = L U,\\text{ or }\\ A = P^T L U;\n",
    "$$\n",
    "where $P$ is a permutation matrix, $L$ is a unit lower-triangular matrix and $U$ is an upper triangular matrix."
   ]
  },
  {
   "cell_type": "code",
   "execution_count": 7,
   "metadata": {},
   "outputs": [
    {
     "name": "stdout",
     "output_type": "stream",
     "text": [
      "\n",
      " Upper triangular, U:\n",
      "  [[ 2.    1.    0.  ]\n",
      " [ 0.    2.    1.  ]\n",
      " [ 0.    0.   -2.75]]\n",
      "\n",
      " Lower triangular, L:\n",
      " [[1.   0.   0.  ]\n",
      " [0.   1.   0.  ]\n",
      " [0.5  2.75 1.  ]]\n",
      "The Permutation Matrix, P:\n",
      " [[0. 1. 0.]\n",
      " [0. 0. 1.]\n",
      " [1. 0. 0.]]\n"
     ]
    }
   ],
   "source": [
    "print(\"\\n Upper triangular, U:\\n \", np.triu(A[p,:]))\n",
    "print(\"\\n Lower triangular, L:\\n\", np.tril(A[p,:], -1)+np.eye(3))\n",
    "print(\"The Permutation Matrix, P:\\n\",np.eye(3)[p,:])"
   ]
  },
  {
   "cell_type": "markdown",
   "metadata": {},
   "source": [
    "## Iterative Methods for Linear Systems\n",
    "---\n",
    "\n",
    "\n",
    "### Jacobi Method"
   ]
  },
  {
   "cell_type": "code",
   "execution_count": null,
   "metadata": {},
   "outputs": [],
   "source": [
    "# You can modify this code to answer the following\n",
    "'''\n",
    "Jacobi's iteration method for solving the system of equations Ax=b.\n",
    "p0 is the initialization for the iteration.\n",
    "'''\n",
    "def jacobi(A, b, p0, tol, maxIter=100):\n",
    "    n=len(A)\n",
    "    p = p0\n",
    "\n",
    "    for k in range(maxIter):\n",
    "        p_old = p.copy() # In python assignment is not the same as copy\n",
    "        \n",
    "        # Update every component of iterant p\n",
    "        for i in range(n):\n",
    "            sumi = b[i];\n",
    "            for j in range(n):\n",
    "                if i==j: # Diagonal elements are not included in Jacobi\n",
    "                    continue;\n",
    "                sumi = sumi - A[i,j] * p_old[j]\n",
    "            p[i] = sumi/A[i,i]\n",
    "                \n",
    "        rel_error = np.linalg.norm(p-p_old)/n\n",
    "        # print(\"Relative error in iteration\", k+1,\":\",rel_error)\n",
    "        if rel_error<tol:\n",
    "            print(\"TOLERANCE MET BEFORE MAX-ITERATION\")\n",
    "            break\n",
    "    return p;"
   ]
  },
  {
   "cell_type": "code",
   "execution_count": null,
   "metadata": {},
   "outputs": [],
   "source": [
    "# Example System\n",
    "A = np.array([[10, -1, 2, 0],\n",
    "              [-1, 11, -1, 3],\n",
    "              [2, -1, 10, -1],\n",
    "              [0, 3, -1, 8]],dtype=float)\n",
    "b = np.array([6, 25, -11, 15],dtype=float)"
   ]
  },
  {
   "cell_type": "code",
   "execution_count": null,
   "metadata": {
    "collapsed": true,
    "jupyter": {
     "outputs_hidden": true
    }
   },
   "outputs": [],
   "source": []
  }
 ],
 "metadata": {
  "kernelspec": {
   "display_name": "Python 3",
   "language": "python",
   "name": "python3"
  },
  "language_info": {
   "codemirror_mode": {
    "name": "ipython",
    "version": 3
   },
   "file_extension": ".py",
   "mimetype": "text/x-python",
   "name": "python",
   "nbconvert_exporter": "python",
   "pygments_lexer": "ipython3",
   "version": "3.8.5"
  }
 },
 "nbformat": 4,
 "nbformat_minor": 4
}
