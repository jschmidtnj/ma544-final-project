{
 "cells": [
  {
   "cell_type": "markdown",
   "metadata": {},
   "source": [
    "## Principal Component Analysis\n",
    "---\n",
    "<img src=\"./images/biplot1.png\" width = \"50%\" />\n",
    "\n",
    "[Image Source](http://www.sthda.com/english/sthda-upload/figures/principal-component-methods/006-principal-component-analysis-color-individuals-by-groups-and-variables-by-contributions-1.png)\n",
    "\n",
    ">- Understanding the need for PCA\n",
    ">- The statistics of PCA\n",
    ">- The mathematics of PCA \n",
    ">- A basic example\n",
    "\n",
    "---\n",
    "\n",
    "<p style=\"font-size:120%;\">Dimensionality reduction by creating new <strong> uncorrelated variables that are linear combination of original variables</strong> and successively maximize variance (minimizing information loss) and also provide interpretability and visulization aid.</p>"
   ]
  },
  {
   "cell_type": "code",
   "execution_count": 1,
   "metadata": {},
   "outputs": [],
   "source": [
    "from __future__ import print_function\n",
    "from __future__ import division \n",
    "\n",
    "import pandas as pd\n",
    "import numpy as np\n",
    "from scipy.sparse.linalg import svds as sparse_svd\n",
    "from sklearn.decomposition import PCA\n",
    "\n",
    "from sklearn.preprocessing import StandardScaler\n",
    "\n",
    "from sklearn.datasets import load_boston,load_iris\n",
    "\n",
    "%matplotlib inline\n",
    "import matplotlib.pyplot as plt\n",
    "import seaborn as sbn\n"
   ]
  },
  {
   "cell_type": "markdown",
   "metadata": {},
   "source": [
    "### The statistics of PCA\n",
    "---\n",
    "<img src=\"https://upload.wikimedia.org/wikipedia/commons/thumb/d/d4/Correlation_examples2.svg/400px-Correlation_examples2.svg.png\" width=\"60%\" />\n",
    "\n",
    "[Correlation Coefficients](https://upload.wikimedia.org/wikipedia/commons/thumb/d/d4/Correlation_examples2.svg/400px-Correlation_examples2.svg.png)\n",
    "\n",
    "#### Variance (Resource: See Wikipedia for revisiting variance and covariance.)\n",
    "\n",
    "$$\n",
    "\\begin{align}\n",
    "\\operatorname{var}(X) &= \\operatorname{E}\\left[(X - \\mu)^2 \\right]\n",
    "= \\operatorname{E}\\left[(X - \\operatorname{E}[X])^2\\right] \\\\[4pt]\n",
    "&= \\operatorname{E}\\left[X^2 - 2X\\operatorname{E}[X] + \\operatorname{E}[X]^2\\right] \\\\[4pt]\n",
    "&= \\operatorname{E}\\left[X^2\\right] - 2\\operatorname{E}[X]\\operatorname{E}[X] + \\operatorname{E}[X]^2 \\\\[4pt]\n",
    "&= \\operatorname{E}\\left[X^2 \\right] - \\operatorname{E}[X]^2\n",
    "\\end{align}\n",
    "$$\n",
    "\n",
    "#### Covariance\n",
    "$$\\large\n",
    "\\operatorname{cov}(X,Y) = \\operatorname{E}{\\big[(X - \\operatorname{E}[X])(Y - \\operatorname{E}[Y])\\big]}\n",
    "$$\n",
    "In other words,\n",
    "$$\n",
    "\\begin{align} \n",
    "\\operatorname{cov}(X, Y)\n",
    "&= \\operatorname{E}\\left[\\left(X - \\operatorname{E}\\left[X\\right]\\right) \\left(Y - \\operatorname{E}\\left[Y\\right]\\right)\\right] \\\\\n",
    "&= \\operatorname{E}\\left[X Y - X \\operatorname{E}\\left[Y\\right] - \\operatorname{E}\\left[X\\right] Y + \\operatorname{E}\\left[X\\right] \\operatorname{E}\\left[Y\\right]\\right] \\\\\n",
    "&= \\operatorname{E}\\left[X Y\\right] - \\operatorname{E}\\left[X\\right] \\operatorname{E}\\left[Y\\right] - \\operatorname{E}\\left[X\\right] \\operatorname{E}\\left[Y\\right] + \\operatorname{E}\\left[X\\right] \\operatorname{E}\\left[Y\\right] \\\\\n",
    "&= \\operatorname{E}\\left[X Y\\right] - \\operatorname{E}\\left[X\\right] \\operatorname{E}\\left[Y\\right],\n",
    "\\end{align}\n",
    "$$\n",
    "\n",
    "Note that $\\operatorname{var}(X) = \\operatorname{cov}(X, X).$\n",
    "\n",
    "Note that two random variables $X$ and $Y$ are uncorrelated when \n",
    "$$\\operatorname{cov}(X, Y) = 0 \\Leftrightarrow E[XY] = E[X]E[Y]$$\n",
    "\n",
    "#### Correlation coefficient\n",
    "$$\n",
    "\\rho(X,Y) = \\frac{Cov(X,Y)}{\\sigma_X \\sigma_Y}\n",
    "$$\n",
    "\n",
    "\n",
    "\n",
    "\n",
    "#### Basic Properties of Variance\n",
    "<div class=\"alert alert-info\">\n",
    "\n",
    ">- $ \\operatorname{var}(X)\\ge 0.$\n",
    "\n",
    "\n",
    "\n",
    ">- $ \\operatorname{var}(a) = 0.$\n",
    "\n",
    "\n",
    ">- $ \\operatorname{var}(X)= 0 \\iff \\exists a : P(X=a) = 1.$\n",
    "\n",
    "\n",
    ">- $ \\operatorname{var}(X+a)=\\operatorname{var}(X).$\n",
    "\n",
    "\n",
    ">- $ \\operatorname{var}(aX)=a^2\\operatorname{var}(X).$\n",
    "\n",
    "\n",
    ">- $\\operatorname{var}(aX+bY)=a^2\\operatorname{var}(X)+b^2\\operatorname{var}(Y)+2ab\\, \\operatorname{cov}(X,Y),$\n",
    "\n",
    "\n",
    ">- $ \\operatorname{var}(aX-bY)=a^2\\operatorname{var}(X)+b^2\\operatorname{var}(Y)-2ab\\, \\operatorname{cov}(X,Y).$\n",
    "\n",
    "</div>\n",
    "<br>\n",
    "\n",
    "In general, for the sum of $n$ random variables $\\{X_1,\\dots,X_n\\}$:\n",
    "$$ \\operatorname{var}\\left(\\sum_{i=1}^n X_i\\right)=\\sum_{i,j=1}^n\\operatorname{cov}(X_i,X_j)=\\sum_{i=1}^n\\operatorname{var}(X_i)+\\sum_{i\\ne j}\\operatorname{cov}(X_i,X_j).$$\n",
    "\n",
    "Thus the <font color=‘blue’> variance of a linear combination random variables </font>:\n",
    "\n",
    "$$\n",
    "\\begin{align}\n",
    "\\operatorname{var}\\left( \\sum_{i=1}^n a_iX_i\\right) \n",
    "&=\\sum_{i,j=1}^{n} a_ia_j\\operatorname{cov}(X_i,X_j) \\\\\n",
    "&=\\sum_{i=1}^n a_i^2\\operatorname{var}(X_i)+\\sum_{i\\not=j}a_ia_j\\operatorname{cov}(X_i,X_j)\\\\\n",
    "& =\\sum_{i=1}^n a_i^2\\operatorname{var}(X_i)+2\\sum_{1\\le i<j\\le n}a_ia_j\\operatorname{cov}(X_i,X_j) = a^T S a.\n",
    "\\end{align}\n",
    "$$\n",
    "\n",
    "Where <font style=\"color:red;font-size:120%;\"> $S$ is the covariance matrix</font>.\n",
    "\n",
    "$$\\Large\n",
    "\\color{blue}{\\operatorname{var}(X a) = a^T S\\,a.}\n",
    "$$\n",
    "\n",
    "\n",
    "The random variables $X_1,\\dots,X_n$ are said to be <font style=\"color:red;font-size:120%;\">uncorrelated </font> if \n",
    "\n",
    "<br>\n",
    "$$\\operatorname{cov}(X_i,X_j)=0\\ ,\\ \\forall\\ (i\\ne j)$$\n",
    "<br>\n",
    "\n",
    "It follows immediately from the expression given earlier that if the random variables $X_1,\\dots,X_n$ are uncorrelated, then\n",
    "\n",
    "$$\\operatorname{var}\\left(\\sum_{i=1}^n X_i\\right)=\\sum_{i=1}^n\\operatorname{var}(X_i).$$\n",
    "\n",
    "\n",
    "\n",
    "\n",
    "<br>\n",
    "**PROBLEM**: Prove that independence implies uncorrelatedness and provide a counterexample to show that uncorrelatedness does not imply independence.\n",
    "\n",
    "\n",
    "\n",
    "#### Population covariance\n",
    "$$\\large \n",
    "\\sigma_{jk}=\\frac 1 n \\sum_{i=1}^n \\left(  X_{ij} - \\operatorname{E}(X_j)\\right)  \\left( X_{ik} - \\operatorname{E}(X_k)\\right)\n",
    "$$\n",
    "\n",
    "#### Sample covariance\n",
    "$$\\large\n",
    "\\sigma_{jk}=\\frac{1}{n-1}\\sum_{i=1}^{n}\\left(  X_{ij}-\\bar{X}_j \\right)  \\left( X_{ik}-\\bar{X}_k \\right),\n",
    "$$\n",
    "\n",
    "#### Covariance matrix\n",
    "$$\\Large\n",
    "\\color{blue}{ S = [\\sigma_{jk}] = \\frac{1}{n-1} [(X-\\mu_X)^T(X-\\mu_X)]}\n",
    "$$\n",
    "\n",
    "where $\\mu_X$ is the vector of means of $m$ random vectors denoting the $m$ features of the dataset.\n",
    "\n"
   ]
  },
  {
   "cell_type": "markdown",
   "metadata": {},
   "source": [
    "### Mathematics of PCA\n",
    "---\n",
    "<font style=\"color:blue;font-size:120%;\"> First Principal Component: </font> Our aim is to find a well-defined linear combination of features that has maximum variance. This boils down to\n",
    "\n",
    "<div \n",
    "style=\"margin:auto;width:500px;padding:20px;border:3px solid green;border-radius:15px;\" >\n",
    "\n",
    "$$\\large \\color{blue}{ \\operatorname{maximize}\\ \\  \\operatorname{Var}\\left( \\sum_{i=1}^N a_iX_i\\right) = a^T S\\, a,   \\quad \\textrm{such that }\\ \\ {a^Ta=1}.\n",
    "}\n",
    "$$\n",
    "\n",
    "</div>\n",
    "\n",
    "Or equivalently, by using <font style=\"color:red;font-size:120%;\">  Lagrange's optimization method </font>(find stationary points)\n",
    "\n",
    "<div class='eqnbox'>\n",
    "$$ \\large\\color{green}{\n",
    "\\mathcal{L}(a,\\lambda)  = a^T S\\, a - \\lambda(a^T a - 1)  \\quad \\textrm{such that }\\ \\ {a^Ta=1}.}\n",
    "$$\n",
    "</div>\n",
    "\n",
    "where $\\lambda$ is the lagrange multiplier.\n",
    "\n",
    "---\n",
    "\n",
    "#### Eigen Decomposition based PCA\n",
    "\n",
    "[See spectral theorem for orthonormal eigen-decomposition](https://en.wikipedia.org/wiki/Spectral_theorem#Hermitian_maps_and_Hermitian_matrices)\n",
    "\n",
    "**PROBLEM**: Prove that the vector $a$ could be given by the eigenvector associated with the largest eigenvalue of $S$.\n",
    "\n",
    "$$\\large\n",
    "\\nabla_{a} \\mathcal{L}(a,\\lambda) = 2Sa - 2\\lambda  a = 0\n",
    "$$\n",
    "\n",
    " This implies that $(a,\\lambda)$ from an eigen-pair of the covariance matrix. In this case the variance is maximized as\n",
    " \n",
    " $$\\large\n",
    " \\operatorname{var} (Xa) = a^T S a = a^T \\lambda a = \\lambda a^T a = \\lambda\n",
    " $$\n",
    " \n",
    " by taking $a$ to be the eigenvector corresponding to the largest eigenvalue (which happens to be the variance).\n",
    " \n",
    " <font style=\"color:blue;font-size:120%;\"> Second Principal Component: </font> \n",
    "Next, we plan to find another linear combination $Xb$ that is uncorrelated with $Xa$ and has the largest variance. This need the additional condition that \n",
    "\n",
    "\n",
    "$$\n",
    "\\large\\operatorname{cov}(Xa, Xb)=b^T S a =b^T(\\lambda a) =\\lambda b^T a=0,\n",
    "$$ \n",
    "\n",
    "\n",
    "implying that $a$ and $b$ be mutually orthogonal. This means that $b$ could be chosen to be the eigenvector associated with the second eigenvalue in the eigenvector decomposition of $S$.\n",
    "\n",
    " <font style=\"color:blue;font-size:120%;\"> Remaining Principal Components: </font> We can continue with the above process to find the $k$-th PCs $X a_k$ where $a_k$ is the eigevector associated with the $k$-th largest eigenvalue of $S$  in the spectral-decomposition of the covariance matrix $S$.\n",
    " \n",
    " <div class='eqnbox2'>\n",
    " $$\\large\n",
    " \\operatorname{var} (X a_k) = a_k^T S a_k = a_k^T \\lambda_k a_k = \\lambda_k a_k^T a_k = \\lambda_k.\n",
    " $$\n",
    "</div>\n",
    "\n",
    "<div class=\"alert alert-info\">\n",
    "Geometrically PCA creates a new set of orthogonal bsed on the maximization of the variation in the data where the first axis (PC1) accounts for the maximum variance and so on.\n",
    "</div>\n",
    "\n",
    "#### SVD Based PCA\n",
    "\n",
    "**PROBLEM**: Verify that the eigenvectors of $S$ are <font style=\"color:blue;font-size:120%;\">  the right singular vectors of the column centered data matrix </font> $\\tilde{X}$ \n",
    "\n",
    "$$\n",
    "\\begin{align}\n",
    "(n-1)S &= \\tilde{X}^T\\tilde{X} \\\\\n",
    "&= (U\\Sigma V^T)^T (U\\Sigma V^T)\\\\\n",
    "&= V \\Sigma^2 V^T\\\\\n",
    "\\Leftrightarrow (n-1)S V &= V \\Sigma^2\n",
    "\\end{align}\n",
    "$$\n",
    "\n",
    "\n",
    "<div class=\"alert alert-warning\">\n",
    "<font style=\"color:red;font-size:120%;\"> PCA of X is equivalent to SVD of column centered $\\tilde{X}$. The variance in the two approaches have the following relations: \n",
    "\n",
    "<br>\n",
    "\n",
    "$$\n",
    "\\operatorname{var}(Xa_k) = \\lambda_k = \\sigma_k^2/(n-1).\n",
    "$$\n",
    "</font>\n",
    "</div>\n",
    "<br>"
   ]
  },
  {
   "cell_type": "markdown",
   "metadata": {},
   "source": [
    "### PCA Terminology\n",
    "---\n",
    ">- **Principal Components**: The linear combinations $Xa_k$ are called PCs.\n",
    "\n",
    ">- **PC Loadings**: Elements of the eigenvector $a_k$ are called PC loadings.\n",
    "\n",
    ">- **PC Scores**:Elemets of $Xa_k$ are called PC scores.\n",
    "\n",
    ">- **Explained variance ratio**: of a PC $Xa_k$ is\n",
    "$$\n",
    "\\pi_k = \\frac{\\lambda_k}{\\sum \\lambda_i } = \\frac{\\lambda_k}{trace(S) }\n",
    "$$\n",
    "\n",
    ">- **Total explained variance ratio**: of the first $k$ PCs is\n",
    "$$\n",
    "\\sum_{i=1}^k \\pi_i = \\frac{\\lambda_1+ \\cdots+ \\lambda_k}{\\sum \\lambda_i }\n",
    "$$\n",
    "\n",
    "#### Cautions\n",
    ">- Only the relative magnitude and sign patterns of the loadings (and scores) are meaningful."
   ]
  },
  {
   "cell_type": "markdown",
   "metadata": {},
   "source": [
    "### Examples: PCA of diabetes data"
   ]
  },
  {
   "cell_type": "code",
   "execution_count": 2,
   "metadata": {},
   "outputs": [],
   "source": [
    "## PIMA Indian dataset: Has been removed from UCI now but available on Kaggle\n",
    "## It is available with scikitlearn.datasets\n",
    "#url = \"https://archive.ics.uci.edu/ml/machine-learning-databases/pima-indians-diabetes/pima-indians-diabetes.data\"\n",
    "col_names = ['preg', 'gtt', 'bp', 'skin', 'test', 'bmi', 'pedi', 'age', 'class'] # Short Names\n",
    "#df_pima = pd.read_csv(\"./pima_diabetes.csv\", header=0)\n",
    "df_pima = pd.read_csv(\"./pima_diabetes.csv\", skiprows=1, names=col_names)"
   ]
  },
  {
   "cell_type": "code",
   "execution_count": 3,
   "metadata": {},
   "outputs": [
    {
     "name": "stdout",
     "output_type": "stream",
     "text": [
      "<class 'pandas.core.frame.DataFrame'>\n",
      "RangeIndex: 768 entries, 0 to 767\n",
      "Data columns (total 9 columns):\n",
      " #   Column  Non-Null Count  Dtype  \n",
      "---  ------  --------------  -----  \n",
      " 0   preg    768 non-null    int64  \n",
      " 1   gtt     768 non-null    int64  \n",
      " 2   bp      768 non-null    int64  \n",
      " 3   skin    768 non-null    int64  \n",
      " 4   test    768 non-null    int64  \n",
      " 5   bmi     768 non-null    float64\n",
      " 6   pedi    768 non-null    float64\n",
      " 7   age     768 non-null    int64  \n",
      " 8   class   768 non-null    int64  \n",
      "dtypes: float64(2), int64(7)\n",
      "memory usage: 54.1 KB\n"
     ]
    }
   ],
   "source": [
    "df_pima.info()"
   ]
  },
  {
   "cell_type": "code",
   "execution_count": 4,
   "metadata": {},
   "outputs": [
    {
     "data": {
      "text/html": [
       "<div>\n",
       "<style scoped>\n",
       "    .dataframe tbody tr th:only-of-type {\n",
       "        vertical-align: middle;\n",
       "    }\n",
       "\n",
       "    .dataframe tbody tr th {\n",
       "        vertical-align: top;\n",
       "    }\n",
       "\n",
       "    .dataframe thead th {\n",
       "        text-align: right;\n",
       "    }\n",
       "</style>\n",
       "<table border=\"1\" class=\"dataframe\">\n",
       "  <thead>\n",
       "    <tr style=\"text-align: right;\">\n",
       "      <th></th>\n",
       "      <th>preg</th>\n",
       "      <th>gtt</th>\n",
       "      <th>bp</th>\n",
       "      <th>skin</th>\n",
       "      <th>test</th>\n",
       "      <th>bmi</th>\n",
       "      <th>pedi</th>\n",
       "      <th>age</th>\n",
       "      <th>class</th>\n",
       "    </tr>\n",
       "  </thead>\n",
       "  <tbody>\n",
       "    <tr>\n",
       "      <th>0</th>\n",
       "      <td>6</td>\n",
       "      <td>148</td>\n",
       "      <td>72</td>\n",
       "      <td>35</td>\n",
       "      <td>0</td>\n",
       "      <td>33.6</td>\n",
       "      <td>0.627</td>\n",
       "      <td>50</td>\n",
       "      <td>1</td>\n",
       "    </tr>\n",
       "    <tr>\n",
       "      <th>1</th>\n",
       "      <td>1</td>\n",
       "      <td>85</td>\n",
       "      <td>66</td>\n",
       "      <td>29</td>\n",
       "      <td>0</td>\n",
       "      <td>26.6</td>\n",
       "      <td>0.351</td>\n",
       "      <td>31</td>\n",
       "      <td>0</td>\n",
       "    </tr>\n",
       "    <tr>\n",
       "      <th>2</th>\n",
       "      <td>8</td>\n",
       "      <td>183</td>\n",
       "      <td>64</td>\n",
       "      <td>0</td>\n",
       "      <td>0</td>\n",
       "      <td>23.3</td>\n",
       "      <td>0.672</td>\n",
       "      <td>32</td>\n",
       "      <td>1</td>\n",
       "    </tr>\n",
       "    <tr>\n",
       "      <th>3</th>\n",
       "      <td>1</td>\n",
       "      <td>89</td>\n",
       "      <td>66</td>\n",
       "      <td>23</td>\n",
       "      <td>94</td>\n",
       "      <td>28.1</td>\n",
       "      <td>0.167</td>\n",
       "      <td>21</td>\n",
       "      <td>0</td>\n",
       "    </tr>\n",
       "    <tr>\n",
       "      <th>4</th>\n",
       "      <td>0</td>\n",
       "      <td>137</td>\n",
       "      <td>40</td>\n",
       "      <td>35</td>\n",
       "      <td>168</td>\n",
       "      <td>43.1</td>\n",
       "      <td>2.288</td>\n",
       "      <td>33</td>\n",
       "      <td>1</td>\n",
       "    </tr>\n",
       "  </tbody>\n",
       "</table>\n",
       "</div>"
      ],
      "text/plain": [
       "   preg  gtt  bp  skin  test   bmi   pedi  age  class\n",
       "0     6  148  72    35     0  33.6  0.627   50      1\n",
       "1     1   85  66    29     0  26.6  0.351   31      0\n",
       "2     8  183  64     0     0  23.3  0.672   32      1\n",
       "3     1   89  66    23    94  28.1  0.167   21      0\n",
       "4     0  137  40    35   168  43.1  2.288   33      1"
      ]
     },
     "execution_count": 4,
     "metadata": {},
     "output_type": "execute_result"
    }
   ],
   "source": [
    "df_pima.head()"
   ]
  },
  {
   "cell_type": "code",
   "execution_count": 5,
   "metadata": {},
   "outputs": [],
   "source": [
    "# Correlation between features\n",
    "pima_corr =df_pima.corr()\n",
    "corr =pima_corr.values"
   ]
  },
  {
   "cell_type": "code",
   "execution_count": 6,
   "metadata": {},
   "outputs": [
    {
     "data": {
      "text/plain": [
       "<matplotlib.axes._subplots.AxesSubplot at 0x7fd8fbe8ff90>"
      ]
     },
     "execution_count": 6,
     "metadata": {},
     "output_type": "execute_result"
    },
    {
     "data": {
      "image/png": "[encoded data removed]",
      "text/plain": [
       "<Figure size 576x576 with 2 Axes>"
      ]
     },
     "metadata": {
      "needs_background": "light"
     },
     "output_type": "display_data"
    }
   ],
   "source": [
    "# Correlation between features\n",
    "\n",
    "mask = np.zeros_like(corr, dtype=np.bool)\n",
    "mask[np.triu_indices_from(mask)] = True\n",
    "\n",
    "# Set up the matplotlib figure\n",
    "f, ax = plt.subplots(figsize=(8, 8))\n",
    "\n",
    "# Generate a custom diverging colormap\n",
    "cmap = sbn.diverging_palette(220, 10, as_cmap=True)\n",
    "\n",
    "# Draw the heatmap with the mask and correct aspect ratio\n",
    "sbn.heatmap(pima_corr, mask=mask, cmap=cmap, vmax=1.0,annot=True, center=0,\n",
    "            square=True, linewidths=.5, cbar_kws={\"shrink\": .5})"
   ]
  },
  {
   "cell_type": "code",
   "execution_count": 7,
   "metadata": {},
   "outputs": [],
   "source": [
    "data_mat = df_pima.values\n",
    "X = data_mat[:,0:8]\n",
    "Y = data_mat[:,8]"
   ]
  },
  {
   "cell_type": "code",
   "execution_count": 8,
   "metadata": {},
   "outputs": [
    {
     "name": "stdout",
     "output_type": "stream",
     "text": [
      "The size of data set is: 767\n",
      "Covariance matrix: \n",
      ":\n",
      "[[   11.37    13.97     9.23    -4.4    -28.59     0.47    -0.04    21.6 ]\n",
      " [   13.97  1023.58    94.55    29.28  1222.53    55.8      1.46    99.21]\n",
      " [    9.23    94.55   375.14    64.11   198.64    43.06     0.26    54.59]\n",
      " [   -4.4     29.28    64.11   254.81   804.03    49.44     0.97   -21.41]\n",
      " [  -28.59  1222.53   198.64   804.03 13298.52   180.01     7.08   -57.22]\n",
      " [    0.47    55.8     43.06    49.44   180.01    62.24     0.37     3.36]\n",
      " [   -0.04     1.46     0.26     0.97     7.08     0.37     0.11     0.13]\n",
      " [   21.6     99.21    54.59   -21.41   -57.22     3.36     0.13   138.48]]\n"
     ]
    }
   ],
   "source": [
    "np.set_printoptions(precision=2, suppress=True)\n",
    "sigmaX = np.std(X,axis=0)\n",
    "# X = X/sigmaX # If Correlation PCA is required\n",
    "muX = np.mean(X, axis=0)\n",
    "n = X.shape[0]-1\n",
    "print(\"The size of data set is:\", n)\n",
    "S = np.dot((X - muX).T, (X - muX)) / (n-1)\n",
    "print('Covariance matrix: \\n:')\n",
    "print(S)"
   ]
  },
  {
   "cell_type": "code",
   "execution_count": 9,
   "metadata": {},
   "outputs": [
    {
     "name": "stdout",
     "output_type": "stream",
     "text": [
      "\n",
      "Eigenvalues \n",
      "[13474.14   933.98   391.09   198.44   112.84    45.89     7.77     0.1 ]\n",
      "\n",
      " Explained Ratio: \n",
      "[0.89 0.06 0.03 0.01 0.01 0.   0.   0.  ]\n"
     ]
    }
   ],
   "source": [
    "# Eigenvalue Decomposition of S\n",
    "w, v = np.linalg.eig(S)\n",
    "\n",
    "#print('Eigenvectors \\n%s' %v)\n",
    "print('\\nEigenvalues \\n%s' %w)\n",
    "print('\\n Explained Ratio: \\n%s' %(w/np.sum(w)))"
   ]
  },
  {
   "cell_type": "code",
   "execution_count": 12,
   "metadata": {},
   "outputs": [
    {
     "name": "stdout",
     "output_type": "stream",
     "text": [
      "The size of data set is: 767\n",
      "\n",
      " Singularvalues \n",
      "[3212.66  845.83  547.33  389.88  293.99  187.49   77.15    8.88]\n",
      "\n",
      " Singularvalues *(n-1) \n",
      " [13474.14   933.98   391.09   198.44   112.84    45.89     7.77     0.1 ]\n",
      "\n",
      " Explained Ratio: \n",
      "[0.89 0.06 0.03 0.01 0.01 0.   0.   0.  ]\n"
     ]
    }
   ],
   "source": [
    "#SVD based approach\n",
    "muX = np.mean(X, axis=0)\n",
    "n = X.shape[0]-1\n",
    "print(\"The size of data set is:\", n)\n",
    "U,s,V = np.linalg.svd(X-muX)\n",
    "#print('Covariance matrix: \\n:')\n",
    "#print(S)\n",
    "s2 = s**2;\n",
    "print('\\n Singularvalues \\n%s' %s)\n",
    "print('\\n Singularvalues *(n-1) \\n {}'.format(s**2/(n-1)))\n",
    "print('\\n Explained Ratio: \\n%s' %(s2/np.sum(s2)))"
   ]
  },
  {
   "cell_type": "code",
   "execution_count": 17,
   "metadata": {},
   "outputs": [
    {
     "name": "stdout",
     "output_type": "stream",
     "text": [
      "Explained Variance Ratio\n",
      "[0.89 0.06 0.02]\n"
     ]
    }
   ],
   "source": [
    "# Instantiate PCA\n",
    "pca = PCA(n_components=3)\n",
    "pca.fit((X-muX).T) # Features are the rows in Standard PCA by convention, so we transform\n",
    "\n",
    "Xpca = pca.transform(X.T)\n",
    "#print(\"PCA components: %s\") # pca.explained_variance_\n",
    "#print(pca.components_)\n",
    "print (\"Explained Variance Ratio\")\n",
    "print (pca.explained_variance_ratio_)"
   ]
  },
  {
   "cell_type": "markdown",
   "metadata": {},
   "source": [
    "#### Correlation PCA\n",
    "---\n",
    "**Question**: Why is standardization of features desirable? What are its effects on PCA?\n",
    "\n",
    "\n",
    "Correlation PCA is performed on the correlation matrix in place of the covariance matrix.\n",
    "\n",
    "\n",
    "Correlation PCA is thus the covariance PCA on standardized data where column $X_j$ is standardized as\n",
    "\n",
    "$$\\large\n",
    "Z_{ij} = \\frac{X_{ij} - \\bar{X_j}}{s_j}\n",
    "$$\n",
    "where $s_j$ is the standard deviation of the j-th column.\n",
    "\n",
    "<div class=\"alert alert-block alert-danger\">\n",
    "NOTE that the PCs and explained variance in correlation PCs are not the same as in covariance PCs. \n",
    "</div>"
   ]
  },
  {
   "cell_type": "code",
   "execution_count": 20,
   "metadata": {},
   "outputs": [
    {
     "name": "stdout",
     "output_type": "stream",
     "text": [
      "Explained Variance Ratio\n",
      "[0.29 0.17 0.15 0.13 0.11 0.07 0.07 0.  ]\n"
     ]
    }
   ],
   "source": [
    "# Instantiate PCA\n",
    "pca = PCA(n_components=8)\n",
    "muX = np.mean(X, axis=0)\n",
    "sigmaX = np.std(X,axis=0)\n",
    "Xn = (X-muX)/sigmaX # One can use the StandardScalar available with ScikitLearn\n",
    "pca.fit(Xn.T) # Features are the rows, so we transform\n",
    "\n",
    "Xpca = pca.transform(Xn.T)\n",
    "\n",
    "#print(\"PCA components: %s\") # pca.explained_variance_\n",
    "#print(pca.components_)\n",
    "print (\"Explained Variance Ratio\")\n",
    "print (pca.explained_variance_ratio_)"
   ]
  },
  {
   "cell_type": "markdown",
   "metadata": {},
   "source": [
    "#### Some Findamental Issues\n",
    "---\n",
    "   >- Correlation-based vs. Covariance based PCA\n",
    "   >- Biplots\n",
    "   >- Centering\n",
    "   >- $n < p$\n",
    "---\n",
    "\n",
    "#### Adaptations\n",
    "---\n",
    ">- Functional PCA\n",
    ">- Simplified PCA\n",
    ">- Robust PCA\n"
   ]
  },
  {
   "cell_type": "markdown",
   "metadata": {},
   "source": []
  },
  {
   "cell_type": "markdown",
   "metadata": {},
   "source": []
  },
  {
   "cell_type": "markdown",
   "metadata": {},
   "source": [
    "### Robust PCA\n",
    "---\n",
    "**Question**: Do you agree that finding the first-$k$ PCs is equivalent to solving the following problem? Provide your reasoning.\n",
    "\n",
    "$$\\large\n",
    "\\operatorname{minimize}\\ \\|X-L\\|_F,  \\textrm{ subject to }\\ \\operatorname{rank}(L) \\leq k.\n",
    "$$\n",
    "\n",
    "<div class=\"alert alert-block alert-warning\">\n",
    "Note: PCA is sensitive to presence of outliers and errors in dataset.\n",
    "</div>\n",
    "<font style=\"color:blue; font-weight:bold;\"> Robust Principal Component Analysis </font>: Decomposition as $X \\approx L+S$\n",
    "\n",
    "<div class='eqnbox'>\n",
    "$$\\large\n",
    "\\operatorname{minimize}\\ \\|L\\|_* + \\lambda\\, \\|S\\|_1\n",
    "$$\n",
    "</div>\n",
    "where $\\|L\\|_* = \\sigma_1 + \\cdots \\sigma_r$ is called the nuclear norm of $L$ and $\\lambda$ is a penalty parameter.\n",
    ">- In some applications such as video surveillance, we are interested in 'noise'.\n",
    "\n",
    "\n",
    ">- Choice of $\\lambda = 1/ \\sqrt{max(n,\\,m)}$ works well, so we can avoid parameter tuning.\n",
    "\n",
    ">- <font color='green'>Principal component pursuit</font> is a popular method for this optimization. Under certain non-stringent conditions it is possible to find the low-rank and sparse components with high probability. \n",
    "\n",
    "[Reading 2](https://arxiv.org/abs/0912.3599) "
   ]
  },
  {
   "cell_type": "markdown",
   "metadata": {},
   "source": [
    "#### Question: How does $L_1$ norm induce sparsity? LASSO vs Ridge.\n",
    "<img src=\"https://upload.wikimedia.org/wikipedia/commons/f/f8/L1_and_L2_balls.svg\" width=\"80%\" />\n",
    "\n",
    "[Image Source: WikiMedia](https://upload.wikimedia.org/wikipedia/commons/f/f8/L1_and_L2_balls.svg)\n",
    "\n",
    "**READING: Augmented Lagrangian Method** for solving constrained optimization problems.\n",
    "\n",
    "[Wikipedia](https://en.wikipedia.org/wiki/Augmented_Lagrangian_method)"
   ]
  },
  {
   "cell_type": "markdown",
   "metadata": {},
   "source": [
    "#### Example: PCA on Iris data-set\n",
    "---\n",
    "<img src=\"http://suruchifialoke.com/img/ML/iris.png\" width=\"80%\">\n",
    "\n",
    "Adapted from the following sources:[Iris Data Wikipedia](https://en.wikipedia.org/wiki/Iris_flower_data_set)\n",
    "[1](https://ostwalprasad.github.io/machine-learning/PCA-using-python.html), [2](https://stackoverflow.com/questions/39216897/plot-pca-loadings-and-loading-in-biplot-in-sklearn-like-rs-autoplot)"
   ]
  },
  {
   "cell_type": "code",
   "execution_count": 43,
   "metadata": {},
   "outputs": [
    {
     "name": "stdout",
     "output_type": "stream",
     "text": [
      "<class 'pandas.core.frame.DataFrame'>\n",
      "RangeIndex: 150 entries, 0 to 149\n",
      "Data columns (total 4 columns):\n",
      "sepal length (cm)    150 non-null float64\n",
      "sepal width (cm)     150 non-null float64\n",
      "petal length (cm)    150 non-null float64\n",
      "petal width (cm)     150 non-null float64\n",
      "dtypes: float64(4)\n",
      "memory usage: 4.8 KB\n"
     ]
    }
   ],
   "source": [
    "iris= load_iris()\n",
    "df_iris = pd.DataFrame(iris.data, columns=iris.feature_names)\n",
    "df_iris.info()"
   ]
  },
  {
   "cell_type": "code",
   "execution_count": 44,
   "metadata": {
    "collapsed": true,
    "jupyter": {
     "outputs_hidden": true
    }
   },
   "outputs": [],
   "source": [
    "X_iris = StandardScaler().fit_transform(iris.data)"
   ]
  },
  {
   "cell_type": "code",
   "execution_count": 45,
   "metadata": {},
   "outputs": [
    {
     "data": {
      "text/plain": [
       "(150, 4)"
      ]
     },
     "execution_count": 45,
     "metadata": {},
     "output_type": "execute_result"
    }
   ],
   "source": [
    "pca_iris = PCA(n_components=4)\n",
    "pc_iris = pca_iris.fit_transform(X_iris)\n",
    "pc_iris.shape"
   ]
  },
  {
   "cell_type": "code",
   "execution_count": 46,
   "metadata": {},
   "outputs": [
    {
     "data": {
      "text/plain": [
       "array([ 2.93035378,  0.92740362,  0.14834223,  0.02074601])"
      ]
     },
     "execution_count": 46,
     "metadata": {},
     "output_type": "execute_result"
    }
   ],
   "source": [
    "pca_iris.explained_variance_"
   ]
  },
  {
   "cell_type": "code",
   "execution_count": 47,
   "metadata": {},
   "outputs": [
    {
     "data": {
      "text/plain": [
       "array([ 0.72770452,  0.23030523,  0.03683832,  0.00515193])"
      ]
     },
     "execution_count": 47,
     "metadata": {},
     "output_type": "execute_result"
    }
   ],
   "source": [
    "pca_iris.explained_variance_ratio_"
   ]
  },
  {
   "cell_type": "code",
   "execution_count": 51,
   "metadata": {},
   "outputs": [
    {
     "data": {
      "text/plain": [
       "<matplotlib.legend.Legend at 0x1a2388fe10>"
      ]
     },
     "execution_count": 51,
     "metadata": {},
     "output_type": "execute_result"
    },
    {
     "data": {
      "image/png": "[encoded data removed]",
      "text/plain": [
       "<matplotlib.figure.Figure at 0x11038e090>"
      ]
     },
     "metadata": {},
     "output_type": "display_data"
    }
   ],
   "source": [
    "plt.bar(range(1,len(pca_iris.explained_variance_ratio_ )+1),pca_iris.explained_variance_ratio_ )\n",
    "plt.ylabel('Explained variance')\n",
    "plt.xlabel('PCs')\n",
    "plt.plot(range(1,len(pca_iris.explained_variance_ )+1),\n",
    "         np.cumsum(pca_iris.explained_variance_),\n",
    "         c='red',\n",
    "         label=\"Cumulative Explained Variance\")\n",
    "plt.legend(loc='upper left')"
   ]
  },
  {
   "cell_type": "code",
   "execution_count": null,
   "metadata": {
    "collapsed": true,
    "jupyter": {
     "outputs_hidden": true
    }
   },
   "outputs": [],
   "source": []
  },
  {
   "cell_type": "code",
   "execution_count": 52,
   "metadata": {},
   "outputs": [
    {
     "data": {
      "image/png": "[encoded data removed]",
      "text/plain": [
       "<matplotlib.figure.Figure at 0x1a236c9590>"
      ]
     },
     "metadata": {},
     "output_type": "display_data"
    }
   ],
   "source": [
    "# Scree-plot: #comp vs eigenvalue\n",
    "plt.plot(pca_iris.explained_variance_ratio_)\n",
    "plt.xlabel('# of components')\n",
    "plt.ylabel('explained variance ratio')\n",
    "plt.show()"
   ]
  },
  {
   "cell_type": "code",
   "execution_count": 31,
   "metadata": {},
   "outputs": [
    {
     "data": {
      "text/plain": [
       "<matplotlib.collections.PathCollection at 0x1a220e0850>"
      ]
     },
     "execution_count": 31,
     "metadata": {},
     "output_type": "execute_result"
    },
    {
     "data": {
      "image/png": "[encoded data removed]",
      "text/plain": [
       "<matplotlib.figure.Figure at 0x1a2341f850>"
      ]
     },
     "metadata": {},
     "output_type": "display_data"
    }
   ],
   "source": [
    "plt.scatter(pc_iris[:, 0], pc_iris[:, 1])"
   ]
  },
  {
   "cell_type": "code",
   "execution_count": 53,
   "metadata": {},
   "outputs": [
    {
     "data": {
      "image/png": "[encoded data removed]",
      "text/plain": [
       "<matplotlib.figure.Figure at 0x1a2394dfd0>"
      ]
     },
     "metadata": {},
     "output_type": "display_data"
    }
   ],
   "source": [
    "ax = sns.heatmap(pca_iris.components_,\n",
    "                 cmap='YlGnBu',\n",
    "                 yticklabels=[ \"PCA\"+str(x) for x in range(1,pcamodel.n_components_+1)],\n",
    "                 xticklabels=list(iris.feature_names),\n",
    "                 cbar_kws={\"orientation\": \"horizontal\"})\n",
    "ax.set_aspect(\"equal\")"
   ]
  },
  {
   "cell_type": "code",
   "execution_count": 40,
   "metadata": {},
   "outputs": [
    {
     "data": {
      "image/png": "[encoded data removed]",
      "text/plain": [
       "<matplotlib.figure.Figure at 0x1a238bbc10>"
      ]
     },
     "metadata": {},
     "output_type": "display_data"
    }
   ],
   "source": [
    "# Biplot\n",
    "\n",
    "def myplot(score,coeff,labels=None):\n",
    "    xs = score[:,0]\n",
    "    ys = score[:,1]\n",
    "    n = coeff.shape[0]\n",
    "    scalex = 1.0/(xs.max() - xs.min())\n",
    "    scaley = 1.0/(ys.max() - ys.min())\n",
    "    plt.scatter(xs * scalex,ys * scaley,s=5)\n",
    "    for i in range(n):\n",
    "        plt.arrow(0, 0, coeff[i,0], coeff[i,1],color = 'r',alpha = 0.5)\n",
    "        if labels is None:\n",
    "            plt.text(coeff[i,0]* 1.15, coeff[i,1] * 1.15, \"Var\"+str(i+1), color = 'green', ha = 'center', va = 'center')\n",
    "        else:\n",
    "            plt.text(coeff[i,0]* 1.15, coeff[i,1] * 1.15, labels[i], color = 'g', ha = 'center', va = 'center')\n",
    " \n",
    "    plt.xlabel(\"PC{}\".format(1))\n",
    "    plt.ylabel(\"PC{}\".format(2))\n",
    "    plt.grid()\n",
    "    \n",
    "## Never mind, I have been trying this from different sources\n",
    "def myplot2(score,coeff,labels=None):\n",
    "    xs = score[:,0]\n",
    "    ys = score[:,1]\n",
    "    n = coeff.shape[0]\n",
    "    scalex = 1.0/(xs.max() - xs.min())\n",
    "    scaley = 1.0/(ys.max() - ys.min())\n",
    "    plt.scatter(xs * scalex,ys * scaley, c = ys)\n",
    "    for i in range(n):\n",
    "        plt.arrow(0, 0, coeff[i,0], coeff[i,1],color = 'r',alpha = 0.5)\n",
    "        if labels is None:\n",
    "            plt.text(coeff[i,0]* 1.15, coeff[i,1] * 1.15, \"Var\"+str(i+1), color = 'g', ha = 'center', va = 'center')\n",
    "        else:\n",
    "            plt.text(coeff[i,0]* 1.15, coeff[i,1] * 1.15, labels[i], color = 'g', ha = 'center', va = 'center')\n",
    "    plt.xlim(-1,1)\n",
    "    plt.ylim(-1,1)\n",
    "    plt.xlabel(\"PC{}\".format(1))\n",
    "    plt.ylabel(\"PC{}\".format(2))\n",
    "    plt.grid()\n",
    "\n",
    "myplot(pc_iris[:,0:2],np.transpose(pca_iris.components_[0:2, :]),list(iris.feature_names))\n",
    "plt.show()"
   ]
  },
  {
   "cell_type": "code",
   "execution_count": 35,
   "metadata": {},
   "outputs": [
    {
     "ename": "KeyError",
     "evalue": "'setosa'",
     "output_type": "error",
     "traceback": [
      "\u001b[0;31m---------------------------------------------------------------------------\u001b[0m",
      "\u001b[0;31mKeyError\u001b[0m                                  Traceback (most recent call last)",
      "\u001b[0;32m<ipython-input-35-4fbb9ce14dae>\u001b[0m in \u001b[0;36m<module>\u001b[0;34m()\u001b[0m\n\u001b[1;32m      1\u001b[0m df_pca_iris = pd.DataFrame(pc_iris, \n\u001b[1;32m      2\u001b[0m                            columns = [\"PC1\", \"PC2\",\"PC3\",\"PC4\"])\n\u001b[0;32m----> 3\u001b[0;31m \u001b[0mcolor_list\u001b[0m \u001b[0;34m=\u001b[0m \u001b[0;34m[\u001b[0m\u001b[0;34m{\u001b[0m\u001b[0;36m0\u001b[0m\u001b[0;34m:\u001b[0m\u001b[0;34m\"r\"\u001b[0m\u001b[0;34m,\u001b[0m\u001b[0;36m1\u001b[0m\u001b[0;34m:\u001b[0m\u001b[0;34m\"g\"\u001b[0m\u001b[0;34m,\u001b[0m\u001b[0;36m2\u001b[0m\u001b[0;34m:\u001b[0m\u001b[0;34m\"b\"\u001b[0m\u001b[0;34m}\u001b[0m\u001b[0;34m[\u001b[0m\u001b[0mx\u001b[0m\u001b[0;34m]\u001b[0m \u001b[0;32mfor\u001b[0m \u001b[0mx\u001b[0m \u001b[0;32min\u001b[0m \u001b[0miris\u001b[0m\u001b[0;34m.\u001b[0m\u001b[0mtarget_names\u001b[0m\u001b[0;34m]\u001b[0m\u001b[0;34m\u001b[0m\u001b[0m\n\u001b[0m\u001b[1;32m      4\u001b[0m \u001b[0;34m\u001b[0m\u001b[0m\n\u001b[1;32m      5\u001b[0m \u001b[0mfig\u001b[0m\u001b[0;34m,\u001b[0m \u001b[0max\u001b[0m \u001b[0;34m=\u001b[0m \u001b[0mplt\u001b[0m\u001b[0;34m.\u001b[0m\u001b[0msubplots\u001b[0m\u001b[0;34m(\u001b[0m\u001b[0;34m)\u001b[0m\u001b[0;34m\u001b[0m\u001b[0m\n",
      "\u001b[0;31mKeyError\u001b[0m: 'setosa'"
     ]
    }
   ],
   "source": [
    "# Still trying to show the different classes in different colors as in the given picture.\n",
    "df_pca_iris = pd.DataFrame(pc_iris, \n",
    "                           columns = [\"PC1\", \"PC2\",\"PC3\",\"PC4\"])\n",
    "color_list = [{0:\"r\",1:\"g\",2:\"b\"}[x] for x in iris.target_names]\n",
    "\n",
    "fig, ax = plt.subplots()\n",
    "ax.scatter(x=pc_iris[\"PC1\"], y=pc_iris[\"PC2\"], color=color_list)"
   ]
  },
  {
   "cell_type": "markdown",
   "metadata": {},
   "source": [
    "#### Exercise: Perform PCA on automobile data from UCI\n",
    "---"
   ]
  },
  {
   "cell_type": "code",
   "execution_count": 21,
   "metadata": {},
   "outputs": [],
   "source": [
    "from sklearn.datasets import load_breast_cancer"
   ]
  },
  {
   "cell_type": "code",
   "execution_count": 22,
   "metadata": {},
   "outputs": [],
   "source": [
    "bcd = load_breast_cancer()"
   ]
  },
  {
   "cell_type": "code",
   "execution_count": 24,
   "metadata": {},
   "outputs": [],
   "source": [
    "import pandas as pd"
   ]
  },
  {
   "cell_type": "code",
   "execution_count": 26,
   "metadata": {},
   "outputs": [
    {
     "data": {
      "text/html": [
       "<div>\n",
       "<style scoped>\n",
       "    .dataframe tbody tr th:only-of-type {\n",
       "        vertical-align: middle;\n",
       "    }\n",
       "\n",
       "    .dataframe tbody tr th {\n",
       "        vertical-align: top;\n",
       "    }\n",
       "\n",
       "    .dataframe thead th {\n",
       "        text-align: right;\n",
       "    }\n",
       "</style>\n",
       "<table border=\"1\" class=\"dataframe\">\n",
       "  <thead>\n",
       "    <tr style=\"text-align: right;\">\n",
       "      <th></th>\n",
       "      <th>mean radius</th>\n",
       "      <th>mean texture</th>\n",
       "      <th>mean perimeter</th>\n",
       "      <th>mean area</th>\n",
       "      <th>mean smoothness</th>\n",
       "      <th>mean compactness</th>\n",
       "      <th>mean concavity</th>\n",
       "      <th>mean concave points</th>\n",
       "      <th>mean symmetry</th>\n",
       "      <th>mean fractal dimension</th>\n",
       "      <th>...</th>\n",
       "      <th>worst radius</th>\n",
       "      <th>worst texture</th>\n",
       "      <th>worst perimeter</th>\n",
       "      <th>worst area</th>\n",
       "      <th>worst smoothness</th>\n",
       "      <th>worst compactness</th>\n",
       "      <th>worst concavity</th>\n",
       "      <th>worst concave points</th>\n",
       "      <th>worst symmetry</th>\n",
       "      <th>worst fractal dimension</th>\n",
       "    </tr>\n",
       "  </thead>\n",
       "  <tbody>\n",
       "    <tr>\n",
       "      <th>0</th>\n",
       "      <td>17.99</td>\n",
       "      <td>10.38</td>\n",
       "      <td>122.80</td>\n",
       "      <td>1001.0</td>\n",
       "      <td>0.11840</td>\n",
       "      <td>0.27760</td>\n",
       "      <td>0.3001</td>\n",
       "      <td>0.14710</td>\n",
       "      <td>0.2419</td>\n",
       "      <td>0.07871</td>\n",
       "      <td>...</td>\n",
       "      <td>25.38</td>\n",
       "      <td>17.33</td>\n",
       "      <td>184.60</td>\n",
       "      <td>2019.0</td>\n",
       "      <td>0.1622</td>\n",
       "      <td>0.6656</td>\n",
       "      <td>0.7119</td>\n",
       "      <td>0.2654</td>\n",
       "      <td>0.4601</td>\n",
       "      <td>0.11890</td>\n",
       "    </tr>\n",
       "    <tr>\n",
       "      <th>1</th>\n",
       "      <td>20.57</td>\n",
       "      <td>17.77</td>\n",
       "      <td>132.90</td>\n",
       "      <td>1326.0</td>\n",
       "      <td>0.08474</td>\n",
       "      <td>0.07864</td>\n",
       "      <td>0.0869</td>\n",
       "      <td>0.07017</td>\n",
       "      <td>0.1812</td>\n",
       "      <td>0.05667</td>\n",
       "      <td>...</td>\n",
       "      <td>24.99</td>\n",
       "      <td>23.41</td>\n",
       "      <td>158.80</td>\n",
       "      <td>1956.0</td>\n",
       "      <td>0.1238</td>\n",
       "      <td>0.1866</td>\n",
       "      <td>0.2416</td>\n",
       "      <td>0.1860</td>\n",
       "      <td>0.2750</td>\n",
       "      <td>0.08902</td>\n",
       "    </tr>\n",
       "    <tr>\n",
       "      <th>2</th>\n",
       "      <td>19.69</td>\n",
       "      <td>21.25</td>\n",
       "      <td>130.00</td>\n",
       "      <td>1203.0</td>\n",
       "      <td>0.10960</td>\n",
       "      <td>0.15990</td>\n",
       "      <td>0.1974</td>\n",
       "      <td>0.12790</td>\n",
       "      <td>0.2069</td>\n",
       "      <td>0.05999</td>\n",
       "      <td>...</td>\n",
       "      <td>23.57</td>\n",
       "      <td>25.53</td>\n",
       "      <td>152.50</td>\n",
       "      <td>1709.0</td>\n",
       "      <td>0.1444</td>\n",
       "      <td>0.4245</td>\n",
       "      <td>0.4504</td>\n",
       "      <td>0.2430</td>\n",
       "      <td>0.3613</td>\n",
       "      <td>0.08758</td>\n",
       "    </tr>\n",
       "    <tr>\n",
       "      <th>3</th>\n",
       "      <td>11.42</td>\n",
       "      <td>20.38</td>\n",
       "      <td>77.58</td>\n",
       "      <td>386.1</td>\n",
       "      <td>0.14250</td>\n",
       "      <td>0.28390</td>\n",
       "      <td>0.2414</td>\n",
       "      <td>0.10520</td>\n",
       "      <td>0.2597</td>\n",
       "      <td>0.09744</td>\n",
       "      <td>...</td>\n",
       "      <td>14.91</td>\n",
       "      <td>26.50</td>\n",
       "      <td>98.87</td>\n",
       "      <td>567.7</td>\n",
       "      <td>0.2098</td>\n",
       "      <td>0.8663</td>\n",
       "      <td>0.6869</td>\n",
       "      <td>0.2575</td>\n",
       "      <td>0.6638</td>\n",
       "      <td>0.17300</td>\n",
       "    </tr>\n",
       "    <tr>\n",
       "      <th>4</th>\n",
       "      <td>20.29</td>\n",
       "      <td>14.34</td>\n",
       "      <td>135.10</td>\n",
       "      <td>1297.0</td>\n",
       "      <td>0.10030</td>\n",
       "      <td>0.13280</td>\n",
       "      <td>0.1980</td>\n",
       "      <td>0.10430</td>\n",
       "      <td>0.1809</td>\n",
       "      <td>0.05883</td>\n",
       "      <td>...</td>\n",
       "      <td>22.54</td>\n",
       "      <td>16.67</td>\n",
       "      <td>152.20</td>\n",
       "      <td>1575.0</td>\n",
       "      <td>0.1374</td>\n",
       "      <td>0.2050</td>\n",
       "      <td>0.4000</td>\n",
       "      <td>0.1625</td>\n",
       "      <td>0.2364</td>\n",
       "      <td>0.07678</td>\n",
       "    </tr>\n",
       "  </tbody>\n",
       "</table>\n",
       "<p>5 rows × 30 columns</p>\n",
       "</div>"
      ],
      "text/plain": [
       "   mean radius  mean texture  mean perimeter  mean area  mean smoothness  \\\n",
       "0        17.99         10.38          122.80     1001.0          0.11840   \n",
       "1        20.57         17.77          132.90     1326.0          0.08474   \n",
       "2        19.69         21.25          130.00     1203.0          0.10960   \n",
       "3        11.42         20.38           77.58      386.1          0.14250   \n",
       "4        20.29         14.34          135.10     1297.0          0.10030   \n",
       "\n",
       "   mean compactness  mean concavity  mean concave points  mean symmetry  \\\n",
       "0           0.27760          0.3001              0.14710         0.2419   \n",
       "1           0.07864          0.0869              0.07017         0.1812   \n",
       "2           0.15990          0.1974              0.12790         0.2069   \n",
       "3           0.28390          0.2414              0.10520         0.2597   \n",
       "4           0.13280          0.1980              0.10430         0.1809   \n",
       "\n",
       "   mean fractal dimension  ...  worst radius  worst texture  worst perimeter  \\\n",
       "0                 0.07871  ...         25.38          17.33           184.60   \n",
       "1                 0.05667  ...         24.99          23.41           158.80   \n",
       "2                 0.05999  ...         23.57          25.53           152.50   \n",
       "3                 0.09744  ...         14.91          26.50            98.87   \n",
       "4                 0.05883  ...         22.54          16.67           152.20   \n",
       "\n",
       "   worst area  worst smoothness  worst compactness  worst concavity  \\\n",
       "0      2019.0            0.1622             0.6656           0.7119   \n",
       "1      1956.0            0.1238             0.1866           0.2416   \n",
       "2      1709.0            0.1444             0.4245           0.4504   \n",
       "3       567.7            0.2098             0.8663           0.6869   \n",
       "4      1575.0            0.1374             0.2050           0.4000   \n",
       "\n",
       "   worst concave points  worst symmetry  worst fractal dimension  \n",
       "0                0.2654          0.4601                  0.11890  \n",
       "1                0.1860          0.2750                  0.08902  \n",
       "2                0.2430          0.3613                  0.08758  \n",
       "3                0.2575          0.6638                  0.17300  \n",
       "4                0.1625          0.2364                  0.07678  \n",
       "\n",
       "[5 rows x 30 columns]"
      ]
     },
     "execution_count": 26,
     "metadata": {},
     "output_type": "execute_result"
    }
   ],
   "source": [
    "bcd_df = pd.DataFrame(bcd.data,columns=bcd.feature_names)\n",
    "bcd_df.head()"
   ]
  },
  {
   "cell_type": "code",
   "execution_count": 30,
   "metadata": {},
   "outputs": [],
   "source": [
    "ss = StandardScaler()\n",
    "data_scaled = ss.fit_transform(bcd_df)"
   ]
  },
  {
   "cell_type": "code",
   "execution_count": 31,
   "metadata": {},
   "outputs": [],
   "source": [
    "pca = PCA(n_components=5)"
   ]
  },
  {
   "cell_type": "code",
   "execution_count": 32,
   "metadata": {},
   "outputs": [],
   "source": [
    "data_pca = pca.fit_transform(data_scaled)"
   ]
  },
  {
   "cell_type": "code",
   "execution_count": 33,
   "metadata": {},
   "outputs": [
    {
     "data": {
      "text/plain": [
       "array([0.44, 0.19, 0.09, 0.07, 0.05])"
      ]
     },
     "execution_count": 33,
     "metadata": {},
     "output_type": "execute_result"
    }
   ],
   "source": [
    "pca.explained_variance_ratio_"
   ]
  },
  {
   "cell_type": "code",
   "execution_count": 43,
   "metadata": {},
   "outputs": [
    {
     "ename": "AttributeError",
     "evalue": "'numpy.ndarray' object has no attribute 'unique'",
     "output_type": "error",
     "traceback": [
      "\u001b[0;31m---------------------------------------------------------------------------\u001b[0m",
      "\u001b[0;31mAttributeError\u001b[0m                            Traceback (most recent call last)",
      "\u001b[0;32m<ipython-input-43-7faa47146b70>\u001b[0m in \u001b[0;36m<module>\u001b[0;34m\u001b[0m\n\u001b[1;32m      1\u001b[0m \u001b[0mplt\u001b[0m\u001b[0;34m.\u001b[0m\u001b[0mfigure\u001b[0m\u001b[0;34m(\u001b[0m\u001b[0mfigsize\u001b[0m\u001b[0;34m=\u001b[0m\u001b[0;34m(\u001b[0m\u001b[0;36m8\u001b[0m\u001b[0;34m,\u001b[0m\u001b[0;36m6\u001b[0m\u001b[0;34m)\u001b[0m\u001b[0;34m)\u001b[0m\u001b[0;34m\u001b[0m\u001b[0;34m\u001b[0m\u001b[0m\n\u001b[1;32m      2\u001b[0m \u001b[0mplt\u001b[0m\u001b[0;34m.\u001b[0m\u001b[0mscatter\u001b[0m\u001b[0;34m(\u001b[0m\u001b[0mdata_pca\u001b[0m\u001b[0;34m[\u001b[0m\u001b[0;34m:\u001b[0m\u001b[0;34m,\u001b[0m\u001b[0;36m0\u001b[0m\u001b[0;34m]\u001b[0m\u001b[0;34m,\u001b[0m\u001b[0mdata_pca\u001b[0m\u001b[0;34m[\u001b[0m\u001b[0;34m:\u001b[0m\u001b[0;34m,\u001b[0m\u001b[0;36m1\u001b[0m\u001b[0;34m]\u001b[0m\u001b[0;34m,\u001b[0m\u001b[0mc\u001b[0m\u001b[0;34m=\u001b[0m\u001b[0mbcd\u001b[0m\u001b[0;34m.\u001b[0m\u001b[0mtarget\u001b[0m\u001b[0;34m)\u001b[0m\u001b[0;34m\u001b[0m\u001b[0;34m\u001b[0m\u001b[0m\n\u001b[0;32m----> 3\u001b[0;31m \u001b[0mplt\u001b[0m\u001b[0;34m.\u001b[0m\u001b[0mlegend\u001b[0m\u001b[0;34m(\u001b[0m\u001b[0mbcd\u001b[0m\u001b[0;34m.\u001b[0m\u001b[0mtarget\u001b[0m\u001b[0;34m.\u001b[0m\u001b[0munique\u001b[0m\u001b[0;34m(\u001b[0m\u001b[0;34m)\u001b[0m\u001b[0;34m)\u001b[0m\u001b[0;34m\u001b[0m\u001b[0;34m\u001b[0m\u001b[0m\n\u001b[0m\u001b[1;32m      4\u001b[0m \u001b[0mplt\u001b[0m\u001b[0;34m.\u001b[0m\u001b[0mxlabel\u001b[0m\u001b[0;34m(\u001b[0m\u001b[0;34m\"PC1\"\u001b[0m\u001b[0;34m)\u001b[0m\u001b[0;34m\u001b[0m\u001b[0;34m\u001b[0m\u001b[0m\n\u001b[1;32m      5\u001b[0m \u001b[0mplt\u001b[0m\u001b[0;34m.\u001b[0m\u001b[0mylabel\u001b[0m\u001b[0;34m(\u001b[0m\u001b[0;34m\"PC2\"\u001b[0m\u001b[0;34m)\u001b[0m\u001b[0;34m\u001b[0m\u001b[0;34m\u001b[0m\u001b[0m\n",
      "\u001b[0;31mAttributeError\u001b[0m: 'numpy.ndarray' object has no attribute 'unique'"
     ]
    },
    {
     "data": {
      "image/png": "[encoded data removed]",
      "text/plain": [
       "<Figure size 576x432 with 1 Axes>"
      ]
     },
     "metadata": {
      "needs_background": "light"
     },
     "output_type": "display_data"
    }
   ],
   "source": [
    "plt.figure(figsize=(8,6))\n",
    "plt.scatter(data_pca[:,0],data_pca[:,1],c=bcd.target)\n",
    "plt.legend()\n",
    "plt.xlabel(\"PC1\")\n",
    "plt.ylabel(\"PC2\")"
   ]
  },
  {
   "cell_type": "code",
   "execution_count": 38,
   "metadata": {},
   "outputs": [
    {
     "data": {
      "text/plain": [
       "array(['malignant', 'benign'], dtype='<U9')"
      ]
     },
     "execution_count": 38,
     "metadata": {},
     "output_type": "execute_result"
    }
   ],
   "source": [
    "bcd.target_names"
   ]
  },
  {
   "cell_type": "code",
   "execution_count": null,
   "metadata": {},
   "outputs": [],
   "source": []
  },
  {
   "cell_type": "code",
   "execution_count": null,
   "metadata": {},
   "outputs": [],
   "source": []
  },
  {
   "cell_type": "code",
   "execution_count": 7,
   "metadata": {},
   "outputs": [
    {
     "data": {
      "text/html": [
       "<style>\n",
       ".eqnbox{\n",
       "    margin:auto;width:500px;padding:20px;\n",
       "    border: 3px solid green; border-radius:15px;margin-top:20px;margin-bottom:20px;\n",
       "}\n",
       ".eqnbox2{\n",
       "    margin:auto;width:500px;padding:20px;background-color:#c6d6b4;\n",
       "    border: 1px solid green; border-radius:15px;margin-top:20px;margin-bottom:20px;\n",
       "}\n",
       "</style>"
      ],
      "text/plain": [
       "<IPython.core.display.HTML object>"
      ]
     },
     "metadata": {},
     "output_type": "display_data"
    }
   ],
   "source": [
    "%%html\n",
    "<style>\n",
    ".eqnbox{\n",
    "    margin:auto;width:500px;padding:20px;\n",
    "    border: 3px solid green; border-radius:15px;margin-top:20px;margin-bottom:20px;\n",
    "}\n",
    ".eqnbox2{\n",
    "    margin:auto;width:500px;padding:20px;background-color:#c6d6b4;\n",
    "    border: 1px solid green; border-radius:15px;margin-top:20px;margin-bottom:20px;\n",
    "}\n",
    "</style>"
   ]
  },
  {
   "cell_type": "code",
   "execution_count": null,
   "metadata": {
    "collapsed": true,
    "jupyter": {
     "outputs_hidden": true
    }
   },
   "outputs": [],
   "source": []
  }
 ],
 "metadata": {
  "kernelspec": {
   "display_name": "Python 3",
   "language": "python",
   "name": "python3"
  },
  "language_info": {
   "codemirror_mode": {
    "name": "ipython",
    "version": 3
   },
   "file_extension": ".py",
   "mimetype": "text/x-python",
   "name": "python",
   "nbconvert_exporter": "python",
   "pygments_lexer": "ipython3",
   "version": "3.8.5"
  }
 },
 "nbformat": 4,
 "nbformat_minor": 4
}
