{
 "cells": [
  {
   "cell_type": "markdown",
   "id": "manual-envelope",
   "metadata": {},
   "source": [
    "To download the dataset follow the instructions here:\n",
    "- https://www.kaggle.com/c/kkbox-music-recommendation-challenge/data?select=members.csv.7z\n",
    "\n",
    "If you are running archlinux:\n",
    "- git clone https://aur.archlinux.org/kaggle-api.git\n",
    "- cd kaggle-api\n",
    "- makepkg -si\n",
    "- Go to the first link and create a kaggle account and agree to the competition rules\n",
    "- go to your account page on kaggle and create an api key and save the kaggle.json file in the folder ~/.kaggle/\n",
    "- kaggle competitions download -c kkbox-music-recommendation-challenge"
   ]
  },
  {
   "cell_type": "code",
   "execution_count": 1,
   "id": "included-swaziland",
   "metadata": {},
   "outputs": [],
   "source": [
    "import os\n",
    "import numpy as np\n",
    "import pandas as pd\n",
    "import tensorflow as tf\n",
    "import tensorflow.data as tfd\n",
    "\n",
    "\n",
    "from loguru import logger\n",
    "from tqdm import tqdm\n",
    "\n",
    "from typing import List, Any, Tuple, Optional, Dict"
   ]
  },
  {
   "cell_type": "code",
   "execution_count": 2,
   "id": "excessive-territory",
   "metadata": {},
   "outputs": [],
   "source": [
    "datapath: str = os.path.join('..', 'data')"
   ]
  },
  {
   "cell_type": "code",
   "execution_count": 3,
   "id": "juvenile-offering",
   "metadata": {},
   "outputs": [],
   "source": [
    "def list_files(directory: str, extension: str) -> List[str]:\n",
    "    all_files = os.listdir(directory)\n",
    "    return [os.path.join(directory, file) for file in all_files if file.split('.')[-1] == extension]"
   ]
  },
  {
   "cell_type": "code",
   "execution_count": 4,
   "id": "dutch-directory",
   "metadata": {},
   "outputs": [
    {
     "name": "stderr",
     "output_type": "stream",
     "text": [
      "Loading data from disk: 100%|############################################################| 6/6 [00:17<00:00,  2.96s/it]\n"
     ]
    }
   ],
   "source": [
    "datasets: Dict[str, pd.DataFrame] = dict()\n",
    "for filepath in tqdm(list_files(datapath, 'csv'), ascii=True, desc=\"Loading data from disk\"):\n",
    "    datasets[os.path.basename(filepath).split('.')[0]] = pd.read_csv(filepath)"
   ]
  },
  {
   "cell_type": "code",
   "execution_count": 5,
   "id": "understood-stocks",
   "metadata": {},
   "outputs": [
    {
     "name": "stdout",
     "output_type": "stream",
     "text": [
      "Loaded 6 csv files\n",
      "length of dataset members is 34403\n",
      "length of dataset sample_submission is 2556790\n",
      "length of dataset songs is 2296320\n",
      "length of dataset song_extra_info is 2295971\n",
      "length of dataset test is 2556790\n",
      "length of dataset train is 7377418\n"
     ]
    }
   ],
   "source": [
    "print(f\"Loaded {len(datasets)} csv files\")\n",
    "for key, value in datasets.items():\n",
    "    print(f\"length of dataset {key} is {len(value)}\")"
   ]
  },
  {
   "cell_type": "code",
   "execution_count": 6,
   "id": "coral-coverage",
   "metadata": {},
   "outputs": [],
   "source": [
    "# Let's remove the 'sample_submission' dataset\n",
    "_ = datasets.pop('sample_submission')"
   ]
  },
  {
   "cell_type": "code",
   "execution_count": 7,
   "id": "differential-arbitration",
   "metadata": {},
   "outputs": [
    {
     "name": "stdout",
     "output_type": "stream",
     "text": [
      "Information for dataset: members\n",
      "Description\n",
      "               city            bd  registered_via  registration_init_time  \\\n",
      "count  34403.000000  34403.000000    34403.000000            3.440300e+04   \n",
      "mean       5.371276     12.280935        5.953376            2.013994e+07   \n",
      "std        6.243929     18.170251        2.287534            2.954015e+04   \n",
      "min        1.000000    -43.000000        3.000000            2.004033e+07   \n",
      "25%        1.000000      0.000000        4.000000            2.012103e+07   \n",
      "50%        1.000000      0.000000        7.000000            2.015090e+07   \n",
      "75%       10.000000     25.000000        9.000000            2.016110e+07   \n",
      "max       22.000000   1051.000000       16.000000            2.017023e+07   \n",
      "\n",
      "       expiration_date  \n",
      "count     3.440300e+04  \n",
      "mean      2.016901e+07  \n",
      "std       7.320925e+03  \n",
      "min       1.970010e+07  \n",
      "25%       2.017020e+07  \n",
      "50%       2.017091e+07  \n",
      "75%       2.017093e+07  \n",
      "max       2.020102e+07  \n",
      "\n",
      "\n",
      "dataframe 'head'\n",
      "                                           msno  city  bd gender  \\\n",
      "0  XQxgAYj3klVKjR3oxPPXYYFp4soD4TuBghkhMTD4oTw=     1   0    NaN   \n",
      "1  UizsfmJb9mV54qE9hCYyU07Va97c0lCRLEQX3ae+ztM=     1   0    NaN   \n",
      "2  D8nEhsIOBSoE6VthTaqDX8U6lqjJ7dLdr72mOyLya2A=     1   0    NaN   \n",
      "3  mCuD+tZ1hERA/o5GPqk38e041J8ZsBaLcu7nGoIIvhI=     1   0    NaN   \n",
      "4  q4HRBfVSssAFS9iRfxWrohxuk9kCYMKjHOEagUMV6rQ=     1   0    NaN   \n",
      "\n",
      "   registered_via  registration_init_time  expiration_date  \n",
      "0               7                20110820         20170920  \n",
      "1               7                20150628         20170622  \n",
      "2               4                20160411         20170712  \n",
      "3               9                20150906         20150907  \n",
      "4               4                20170126         20170613  \n",
      "\n",
      "\n",
      "-------------------------------------------------------\n",
      "\n",
      "\n",
      "Information for dataset: songs\n",
      "Description\n",
      "        song_length      language\n",
      "count  2.296320e+06  2.296319e+06\n",
      "mean   2.469935e+05  3.237800e+01\n",
      "std    1.609200e+05  2.433241e+01\n",
      "min    1.850000e+02 -1.000000e+00\n",
      "25%    1.836000e+05 -1.000000e+00\n",
      "50%    2.266270e+05  5.200000e+01\n",
      "75%    2.772690e+05  5.200000e+01\n",
      "max    1.217385e+07  5.900000e+01\n",
      "\n",
      "\n",
      "dataframe 'head'\n",
      "                                        song_id  song_length genre_ids  \\\n",
      "0  CXoTN1eb7AI+DntdU1vbcwGRV4SCIDxZu+YD8JP8r4E=       247640       465   \n",
      "1  o0kFgae9QtnYgRkVPqLJwa05zIhRlUjfF7O1tDw0ZDU=       197328       444   \n",
      "2  DwVvVurfpuz+XPuFvucclVQEyPqcpUkHR0ne1RQzPs0=       231781       465   \n",
      "3  dKMBWoZyScdxSkihKG+Vf47nc18N9q4m58+b4e7dSSE=       273554       465   \n",
      "4  W3bqWd3T+VeHFzHAUfARgW9AvVRaF4N5Yzm4Mr6Eo/o=       140329       726   \n",
      "\n",
      "        artist_name                            composer     lyricist  language  \n",
      "0  張信哲 (Jeff Chang)                                  董貞          何啟弘       3.0  \n",
      "1         BLACKPINK  TEDDY|  FUTURE BOUNCE|  Bekuh BOOM        TEDDY      31.0  \n",
      "2      SUPER JUNIOR                                 NaN          NaN      31.0  \n",
      "3             S.H.E                                 湯小康          徐世珍       3.0  \n",
      "4              貴族精選                         Traditional  Traditional      52.0  \n",
      "\n",
      "\n",
      "-------------------------------------------------------\n",
      "\n",
      "\n",
      "Information for dataset: song_extra_info\n",
      "Description\n",
      "                                             song_id     name          isrc\n",
      "count                                        2295971  2295969       2159423\n",
      "unique                                       2295971  1168979       1806825\n",
      "top     FmDtL6axBprLfdjn+LKWYH4vWVfX16kiwhmApoah65A=    Intro  GBPS81518952\n",
      "freq                                               1     1734           207\n",
      "\n",
      "\n",
      "dataframe 'head'\n",
      "                                        song_id             name          isrc\n",
      "0  LP7pLJoJFBvyuUwvu+oLzjT+bI+UeBPURCecJsX1jjs=               我們  TWUM71200043\n",
      "1  ClazTFnk6r0Bnuie44bocdNMM3rdlrq0bCGAsGUWcHE=  Let Me Love You  QMZSY1600015\n",
      "2  u2ja/bZE3zhCGxvbbOB3zOoUjx27u40cf5g09UXMoKQ=              原諒我  TWA530887303\n",
      "3  92Fqsy0+p6+RHe2EoLKjHahORHR1Kq1TBJoClW9v+Ts=          Classic  USSM11301446\n",
      "4  0QFmz/+rJy1Q56C1DuYqT9hKKqi5TUqx0sN0IwvoHrw=             愛投羅網  TWA471306001\n",
      "\n",
      "\n",
      "-------------------------------------------------------\n",
      "\n",
      "\n",
      "Information for dataset: test\n",
      "Description\n",
      "                 id\n",
      "count  2.556790e+06\n",
      "mean   1.278394e+06\n",
      "std    7.380818e+05\n",
      "min    0.000000e+00\n",
      "25%    6.391972e+05\n",
      "50%    1.278394e+06\n",
      "75%    1.917592e+06\n",
      "max    2.556789e+06\n",
      "\n",
      "\n",
      "dataframe 'head'\n",
      "   id                                          msno  \\\n",
      "0   0  V8ruy7SGk7tDm3zA51DPpn6qutt+vmKMBKa21dp54uM=   \n",
      "1   1  V8ruy7SGk7tDm3zA51DPpn6qutt+vmKMBKa21dp54uM=   \n",
      "2   2  /uQAlrAkaczV+nWCd2sPF2ekvXPRipV7q0l+gbLuxjw=   \n",
      "3   3  1a6oo/iXKatxQx4eS9zTVD+KlSVaAFbTIqVvwLC1Y0k=   \n",
      "4   4  1a6oo/iXKatxQx4eS9zTVD+KlSVaAFbTIqVvwLC1Y0k=   \n",
      "\n",
      "                                        song_id source_system_tab  \\\n",
      "0  WmHKgKMlp1lQMecNdNvDMkvIycZYHnFwDT72I5sIssc=        my library   \n",
      "1  y/rsZ9DC7FwK5F2PK2D5mj+aOBUJAjuu3dZ14NgE0vM=        my library   \n",
      "2  8eZLFOdGVdXBSqoAv5nsLigeH2BvKXzTQYtUM53I0k4=          discover   \n",
      "3  ztCf8thYsS4YN3GcIL/bvoxLm/T5mYBVKOO4C9NiVfQ=             radio   \n",
      "4  MKVMpslKcQhMaFEgcEQhEfi5+RZhMYlU3eRDpySrH8Y=             radio   \n",
      "\n",
      "    source_screen_name          source_type  \n",
      "0  Local playlist more        local-library  \n",
      "1  Local playlist more        local-library  \n",
      "2                  NaN  song-based-playlist  \n",
      "3                Radio                radio  \n",
      "4                Radio                radio  \n",
      "\n",
      "\n",
      "-------------------------------------------------------\n",
      "\n",
      "\n",
      "Information for dataset: train\n",
      "Description\n",
      "             target\n",
      "count  7.377418e+06\n",
      "mean   5.035171e-01\n",
      "std    4.999877e-01\n",
      "min    0.000000e+00\n",
      "25%    0.000000e+00\n",
      "50%    1.000000e+00\n",
      "75%    1.000000e+00\n",
      "max    1.000000e+00\n",
      "\n",
      "\n",
      "dataframe 'head'\n",
      "                                           msno  \\\n",
      "0  FGtllVqz18RPiwJj/edr2gV78zirAiY/9SmYvia+kCg=   \n",
      "1  Xumu+NIjS6QYVxDS4/t3SawvJ7viT9hPKXmf0RtLNx8=   \n",
      "2  Xumu+NIjS6QYVxDS4/t3SawvJ7viT9hPKXmf0RtLNx8=   \n",
      "3  Xumu+NIjS6QYVxDS4/t3SawvJ7viT9hPKXmf0RtLNx8=   \n",
      "4  FGtllVqz18RPiwJj/edr2gV78zirAiY/9SmYvia+kCg=   \n",
      "\n",
      "                                        song_id source_system_tab  \\\n",
      "0  BBzumQNXUHKdEBOB7mAJuzok+IJA1c2Ryg/yzTF6tik=           explore   \n",
      "1  bhp/MpSNoqoxOIB+/l8WPqu6jldth4DIpCm3ayXnJqM=        my library   \n",
      "2  JNWfrrC7zNN7BdMpsISKa4Mw+xVJYNnxXh3/Epw7QgY=        my library   \n",
      "3  2A87tzfnJTSWqD7gIZHisolhe4DMdzkbd6LzO1KHjNs=        my library   \n",
      "4  3qm6XTZ6MOCU11x8FIVbAGH5l5uMkT3/ZalWG1oo2Gc=           explore   \n",
      "\n",
      "    source_screen_name      source_type  target  \n",
      "0              Explore  online-playlist       1  \n",
      "1  Local playlist more   local-playlist       1  \n",
      "2  Local playlist more   local-playlist       1  \n",
      "3  Local playlist more   local-playlist       1  \n",
      "4              Explore  online-playlist       1  \n",
      "\n",
      "\n",
      "-------------------------------------------------------\n",
      "\n",
      "\n"
     ]
    }
   ],
   "source": [
    "for key, value in datasets.items():\n",
    "    print(f\"Information for dataset: {key}\")\n",
    "    print(\"Description\")\n",
    "    print(value.describe())\n",
    "    print('\\n')\n",
    "    print(\"dataframe 'head'\")\n",
    "    print(value.head())\n",
    "    print('\\n\\n-------------------------------------------------------\\n\\n')"
   ]
  },
  {
   "cell_type": "markdown",
   "id": "global-clone",
   "metadata": {},
   "source": [
    "### In English:\n",
    "- we have a list of users, their personal information, the songs that they liked and didnt like, and where they accesed the song\n",
    "- we also have metadata about each song in the dataset\n",
    "- the dataframe describe function seems to have bugged out with jupyter lab and not shown all of the columns, so I also printed the \"heads\" of each dataframe"
   ]
  },
  {
   "cell_type": "markdown",
   "id": "turned-jumping",
   "metadata": {},
   "source": [
    "# The first task is creating one dataframe that can hold all of our song information robustly\n",
    "# And another which can handle our user data robustly\n",
    "If your data contains both numeric and categorical variables, the best way to carry out clustering on the dataset is to create principal components of the dataset and use the principal component scores as input into the clustering.\n",
    "\n",
    "Remember that u can always get principal components for categorical variables using a multiple correspondence analysis (MCA), which will give principal components, and you can get then do a separate PCA for the numerical variables, and use the combined as input into your clustering.\n",
    "\n",
    "OR u could use the R package called FactorMineR or PCAmix to carry Factor analysis of mixed data, with the output being principal components, and then using the principal components as input into your clustering.\n",
    "\n",
    "Remember that clustering and principal components are doing almost similar thing in a simplistic way they're both distances, e.g Euclidean distance."
   ]
  },
  {
   "cell_type": "markdown",
   "id": "capable-picking",
   "metadata": {},
   "source": [
    "Dataset descriptions:\n",
    "- members.csv\n",
    "    - user ID, location, gender, \n",
    "- song_extra_info + songs.csv\n",
    "    - song_id, song name, artist name, composer, lyricist, genre id, song length, language\n",
    "- train.csv:\n",
    "    - userid, songid, where they found the song, whether they liked it or now\n",
    "    \n",
    "\n",
    "Task theoreticals:\n",
    "    theoretical:\n",
    "        cluster by attributes and label by userid. i.e each datapoint is a user with a certain value assigned\n",
    "    practical:\n",
    "        difficult as some of the most important information is artist and composer and its hard to assign a numercal value to those attributes with the information at hand\n",
    "  \n",
    "  \n",
    "    - theoretical\n",
    "        - create an embedding between the userid, songid, composers, and how the user is realted to the song\n",
    "        - cluster on the embedding\n",
    "        \n",
    "        \n",
    "        \n",
    "        \n",
    "        \n",
    "    - theoretical\n",
    "        - do principal component analysis (MCA) on the categorical variables and then do another PCA on the numerical vairables, use this as the combined input to a clustering algorithm ( possibly spectral becuase of the most probably complex but ordered topology of the datase ) and then recommend users songs from the clusters they are interested in \n",
    "    - practical\n",
    "        - could end up recommending too many songs but we can tune the \"looking distance\" of the final recommender\n",
    "        \n",
    "EITHER CLUSTER THE SONGS AND THEN DO A SECONDARY PROCESS TO RECOMMEDN TO USERS OR CLUSTER THE USERS AND RECOMMEND ENTIRE LIBRARIES\n",
    "New Dataset:\n",
    "- categorical:\n",
    "    - artist name, composer, lyricist, genre_id, language\n",
    "- numerical:\n",
    "    - song length\n",
    "- label:\n",
    "    - song id\n",
    "    \n",
    "This will be used to create clusters of songs, or song groups\n",
    "\n",
    "Recommendation dataset:\n",
    "- userid, song rating, songs cluster, songs feature vector, "
   ]
  },
  {
   "cell_type": "code",
   "execution_count": 8,
   "id": "homeless-world",
   "metadata": {},
   "outputs": [
    {
     "data": {
      "text/html": [
       "<div>\n",
       "<style scoped>\n",
       "    .dataframe tbody tr th:only-of-type {\n",
       "        vertical-align: middle;\n",
       "    }\n",
       "\n",
       "    .dataframe tbody tr th {\n",
       "        vertical-align: top;\n",
       "    }\n",
       "\n",
       "    .dataframe thead th {\n",
       "        text-align: right;\n",
       "    }\n",
       "</style>\n",
       "<table border=\"1\" class=\"dataframe\">\n",
       "  <thead>\n",
       "    <tr style=\"text-align: right;\">\n",
       "      <th></th>\n",
       "      <th>song_id</th>\n",
       "      <th>song_length</th>\n",
       "      <th>genre_ids</th>\n",
       "      <th>artist_name</th>\n",
       "      <th>composer</th>\n",
       "      <th>lyricist</th>\n",
       "      <th>language</th>\n",
       "    </tr>\n",
       "  </thead>\n",
       "  <tbody>\n",
       "    <tr>\n",
       "      <th>0</th>\n",
       "      <td>CXoTN1eb7AI+DntdU1vbcwGRV4SCIDxZu+YD8JP8r4E=</td>\n",
       "      <td>247640</td>\n",
       "      <td>465</td>\n",
       "      <td>張信哲 (Jeff Chang)</td>\n",
       "      <td>董貞</td>\n",
       "      <td>何啟弘</td>\n",
       "      <td>3.0</td>\n",
       "    </tr>\n",
       "    <tr>\n",
       "      <th>1</th>\n",
       "      <td>o0kFgae9QtnYgRkVPqLJwa05zIhRlUjfF7O1tDw0ZDU=</td>\n",
       "      <td>197328</td>\n",
       "      <td>444</td>\n",
       "      <td>BLACKPINK</td>\n",
       "      <td>TEDDY|  FUTURE BOUNCE|  Bekuh BOOM</td>\n",
       "      <td>TEDDY</td>\n",
       "      <td>31.0</td>\n",
       "    </tr>\n",
       "    <tr>\n",
       "      <th>2</th>\n",
       "      <td>DwVvVurfpuz+XPuFvucclVQEyPqcpUkHR0ne1RQzPs0=</td>\n",
       "      <td>231781</td>\n",
       "      <td>465</td>\n",
       "      <td>SUPER JUNIOR</td>\n",
       "      <td>NaN</td>\n",
       "      <td>NaN</td>\n",
       "      <td>31.0</td>\n",
       "    </tr>\n",
       "    <tr>\n",
       "      <th>3</th>\n",
       "      <td>dKMBWoZyScdxSkihKG+Vf47nc18N9q4m58+b4e7dSSE=</td>\n",
       "      <td>273554</td>\n",
       "      <td>465</td>\n",
       "      <td>S.H.E</td>\n",
       "      <td>湯小康</td>\n",
       "      <td>徐世珍</td>\n",
       "      <td>3.0</td>\n",
       "    </tr>\n",
       "    <tr>\n",
       "      <th>4</th>\n",
       "      <td>W3bqWd3T+VeHFzHAUfARgW9AvVRaF4N5Yzm4Mr6Eo/o=</td>\n",
       "      <td>140329</td>\n",
       "      <td>726</td>\n",
       "      <td>貴族精選</td>\n",
       "      <td>Traditional</td>\n",
       "      <td>Traditional</td>\n",
       "      <td>52.0</td>\n",
       "    </tr>\n",
       "    <tr>\n",
       "      <th>...</th>\n",
       "      <td>...</td>\n",
       "      <td>...</td>\n",
       "      <td>...</td>\n",
       "      <td>...</td>\n",
       "      <td>...</td>\n",
       "      <td>...</td>\n",
       "      <td>...</td>\n",
       "    </tr>\n",
       "    <tr>\n",
       "      <th>2296315</th>\n",
       "      <td>lg6rn7eV/ZNg0+P+x77kHUL7GDMfoL4eMtXxncseLNA=</td>\n",
       "      <td>20192</td>\n",
       "      <td>958</td>\n",
       "      <td>Catherine Collard</td>\n",
       "      <td>Robert Schumann (1810-1856)</td>\n",
       "      <td>NaN</td>\n",
       "      <td>-1.0</td>\n",
       "    </tr>\n",
       "    <tr>\n",
       "      <th>2296316</th>\n",
       "      <td>nXi1lrSJe+gLoTTNky7If0mNPrIyCQCLwagwR6XopGU=</td>\n",
       "      <td>273391</td>\n",
       "      <td>465</td>\n",
       "      <td>紀文惠 (Justine Chi)</td>\n",
       "      <td>NaN</td>\n",
       "      <td>NaN</td>\n",
       "      <td>3.0</td>\n",
       "    </tr>\n",
       "    <tr>\n",
       "      <th>2296317</th>\n",
       "      <td>9KxSvIjbJyJzfEVWnkMbgR6dyn6d54ot0N5FKyKqii8=</td>\n",
       "      <td>445172</td>\n",
       "      <td>1609</td>\n",
       "      <td>Various Artists</td>\n",
       "      <td>NaN</td>\n",
       "      <td>NaN</td>\n",
       "      <td>52.0</td>\n",
       "    </tr>\n",
       "    <tr>\n",
       "      <th>2296318</th>\n",
       "      <td>UO8Y2MR2sjOn2q/Tp8/lzZTGKmLEvwZ20oWanG4XnYc=</td>\n",
       "      <td>172669</td>\n",
       "      <td>465</td>\n",
       "      <td>Peter Paul &amp; Mary</td>\n",
       "      <td>NaN</td>\n",
       "      <td>NaN</td>\n",
       "      <td>52.0</td>\n",
       "    </tr>\n",
       "    <tr>\n",
       "      <th>2296319</th>\n",
       "      <td>V/9qPSUOGT0FeIGBhDIZRRz5Y5yyjdXC2Z/+bJExo5s=</td>\n",
       "      <td>270466</td>\n",
       "      <td>829</td>\n",
       "      <td>Kim Robertson</td>\n",
       "      <td>NaN</td>\n",
       "      <td>NaN</td>\n",
       "      <td>52.0</td>\n",
       "    </tr>\n",
       "  </tbody>\n",
       "</table>\n",
       "<p>2296320 rows × 7 columns</p>\n",
       "</div>"
      ],
      "text/plain": [
       "                                              song_id  song_length genre_ids  \\\n",
       "0        CXoTN1eb7AI+DntdU1vbcwGRV4SCIDxZu+YD8JP8r4E=       247640       465   \n",
       "1        o0kFgae9QtnYgRkVPqLJwa05zIhRlUjfF7O1tDw0ZDU=       197328       444   \n",
       "2        DwVvVurfpuz+XPuFvucclVQEyPqcpUkHR0ne1RQzPs0=       231781       465   \n",
       "3        dKMBWoZyScdxSkihKG+Vf47nc18N9q4m58+b4e7dSSE=       273554       465   \n",
       "4        W3bqWd3T+VeHFzHAUfARgW9AvVRaF4N5Yzm4Mr6Eo/o=       140329       726   \n",
       "...                                               ...          ...       ...   \n",
       "2296315  lg6rn7eV/ZNg0+P+x77kHUL7GDMfoL4eMtXxncseLNA=        20192       958   \n",
       "2296316  nXi1lrSJe+gLoTTNky7If0mNPrIyCQCLwagwR6XopGU=       273391       465   \n",
       "2296317  9KxSvIjbJyJzfEVWnkMbgR6dyn6d54ot0N5FKyKqii8=       445172      1609   \n",
       "2296318  UO8Y2MR2sjOn2q/Tp8/lzZTGKmLEvwZ20oWanG4XnYc=       172669       465   \n",
       "2296319  V/9qPSUOGT0FeIGBhDIZRRz5Y5yyjdXC2Z/+bJExo5s=       270466       829   \n",
       "\n",
       "               artist_name                            composer     lyricist  \\\n",
       "0         張信哲 (Jeff Chang)                                  董貞          何啟弘   \n",
       "1                BLACKPINK  TEDDY|  FUTURE BOUNCE|  Bekuh BOOM        TEDDY   \n",
       "2             SUPER JUNIOR                                 NaN          NaN   \n",
       "3                    S.H.E                                 湯小康          徐世珍   \n",
       "4                     貴族精選                         Traditional  Traditional   \n",
       "...                    ...                                 ...          ...   \n",
       "2296315  Catherine Collard         Robert Schumann (1810-1856)          NaN   \n",
       "2296316  紀文惠 (Justine Chi)                                 NaN          NaN   \n",
       "2296317    Various Artists                                 NaN          NaN   \n",
       "2296318  Peter Paul & Mary                                 NaN          NaN   \n",
       "2296319      Kim Robertson                                 NaN          NaN   \n",
       "\n",
       "         language  \n",
       "0             3.0  \n",
       "1            31.0  \n",
       "2            31.0  \n",
       "3             3.0  \n",
       "4            52.0  \n",
       "...           ...  \n",
       "2296315      -1.0  \n",
       "2296316       3.0  \n",
       "2296317      52.0  \n",
       "2296318      52.0  \n",
       "2296319      52.0  \n",
       "\n",
       "[2296320 rows x 7 columns]"
      ]
     },
     "execution_count": 8,
     "metadata": {},
     "output_type": "execute_result"
    }
   ],
   "source": [
    "len(datasets['songs'])\n",
    "datasets[\"songs\"]"
   ]
  },
  {
   "cell_type": "code",
   "execution_count": 9,
   "id": "c68cf939-57a5-473d-95b7-ef1aed31881d",
   "metadata": {},
   "outputs": [],
   "source": [
    "raw = pd.DataFrame()\n",
    "# categorical variables\n",
    "raw[\"artist_name\"] = datasets[\"songs\"][\"artist_name\"]\n",
    "raw[\"composer\"] = datasets[\"songs\"][\"composer\"] \n",
    "raw[\"lyricist\"] = datasets[\"songs\"][\"lyricist\"]\n",
    "raw[\"genre_id\"] = datasets[\"songs\"][\"genre_ids\"]\n",
    "raw[\"language\"] = datasets[\"songs\"][\"language\"]\n",
    "raw[\"song_length\"] = datasets[\"songs\"][\"song_length\"]\n",
    "raw[\"song_id\"] = datasets[\"songs\"][\"song_id\"]"
   ]
  },
  {
   "cell_type": "code",
   "execution_count": 10,
   "id": "53453fba-22ad-4f90-8dcb-d6f11ff88332",
   "metadata": {},
   "outputs": [
    {
     "data": {
      "text/html": [
       "<div>\n",
       "<style scoped>\n",
       "    .dataframe tbody tr th:only-of-type {\n",
       "        vertical-align: middle;\n",
       "    }\n",
       "\n",
       "    .dataframe tbody tr th {\n",
       "        vertical-align: top;\n",
       "    }\n",
       "\n",
       "    .dataframe thead th {\n",
       "        text-align: right;\n",
       "    }\n",
       "</style>\n",
       "<table border=\"1\" class=\"dataframe\">\n",
       "  <thead>\n",
       "    <tr style=\"text-align: right;\">\n",
       "      <th></th>\n",
       "      <th>artist_name</th>\n",
       "      <th>composer</th>\n",
       "      <th>lyricist</th>\n",
       "      <th>genre_id</th>\n",
       "      <th>language</th>\n",
       "      <th>song_length</th>\n",
       "      <th>song_id</th>\n",
       "    </tr>\n",
       "  </thead>\n",
       "  <tbody>\n",
       "    <tr>\n",
       "      <th>0</th>\n",
       "      <td>張信哲 (Jeff Chang)</td>\n",
       "      <td>董貞</td>\n",
       "      <td>何啟弘</td>\n",
       "      <td>465</td>\n",
       "      <td>3.0</td>\n",
       "      <td>247640</td>\n",
       "      <td>CXoTN1eb7AI+DntdU1vbcwGRV4SCIDxZu+YD8JP8r4E=</td>\n",
       "    </tr>\n",
       "    <tr>\n",
       "      <th>1</th>\n",
       "      <td>BLACKPINK</td>\n",
       "      <td>TEDDY|  FUTURE BOUNCE|  Bekuh BOOM</td>\n",
       "      <td>TEDDY</td>\n",
       "      <td>444</td>\n",
       "      <td>31.0</td>\n",
       "      <td>197328</td>\n",
       "      <td>o0kFgae9QtnYgRkVPqLJwa05zIhRlUjfF7O1tDw0ZDU=</td>\n",
       "    </tr>\n",
       "    <tr>\n",
       "      <th>2</th>\n",
       "      <td>SUPER JUNIOR</td>\n",
       "      <td>NaN</td>\n",
       "      <td>NaN</td>\n",
       "      <td>465</td>\n",
       "      <td>31.0</td>\n",
       "      <td>231781</td>\n",
       "      <td>DwVvVurfpuz+XPuFvucclVQEyPqcpUkHR0ne1RQzPs0=</td>\n",
       "    </tr>\n",
       "    <tr>\n",
       "      <th>3</th>\n",
       "      <td>S.H.E</td>\n",
       "      <td>湯小康</td>\n",
       "      <td>徐世珍</td>\n",
       "      <td>465</td>\n",
       "      <td>3.0</td>\n",
       "      <td>273554</td>\n",
       "      <td>dKMBWoZyScdxSkihKG+Vf47nc18N9q4m58+b4e7dSSE=</td>\n",
       "    </tr>\n",
       "    <tr>\n",
       "      <th>4</th>\n",
       "      <td>貴族精選</td>\n",
       "      <td>Traditional</td>\n",
       "      <td>Traditional</td>\n",
       "      <td>726</td>\n",
       "      <td>52.0</td>\n",
       "      <td>140329</td>\n",
       "      <td>W3bqWd3T+VeHFzHAUfARgW9AvVRaF4N5Yzm4Mr6Eo/o=</td>\n",
       "    </tr>\n",
       "    <tr>\n",
       "      <th>...</th>\n",
       "      <td>...</td>\n",
       "      <td>...</td>\n",
       "      <td>...</td>\n",
       "      <td>...</td>\n",
       "      <td>...</td>\n",
       "      <td>...</td>\n",
       "      <td>...</td>\n",
       "    </tr>\n",
       "    <tr>\n",
       "      <th>2296315</th>\n",
       "      <td>Catherine Collard</td>\n",
       "      <td>Robert Schumann (1810-1856)</td>\n",
       "      <td>NaN</td>\n",
       "      <td>958</td>\n",
       "      <td>-1.0</td>\n",
       "      <td>20192</td>\n",
       "      <td>lg6rn7eV/ZNg0+P+x77kHUL7GDMfoL4eMtXxncseLNA=</td>\n",
       "    </tr>\n",
       "    <tr>\n",
       "      <th>2296316</th>\n",
       "      <td>紀文惠 (Justine Chi)</td>\n",
       "      <td>NaN</td>\n",
       "      <td>NaN</td>\n",
       "      <td>465</td>\n",
       "      <td>3.0</td>\n",
       "      <td>273391</td>\n",
       "      <td>nXi1lrSJe+gLoTTNky7If0mNPrIyCQCLwagwR6XopGU=</td>\n",
       "    </tr>\n",
       "    <tr>\n",
       "      <th>2296317</th>\n",
       "      <td>Various Artists</td>\n",
       "      <td>NaN</td>\n",
       "      <td>NaN</td>\n",
       "      <td>1609</td>\n",
       "      <td>52.0</td>\n",
       "      <td>445172</td>\n",
       "      <td>9KxSvIjbJyJzfEVWnkMbgR6dyn6d54ot0N5FKyKqii8=</td>\n",
       "    </tr>\n",
       "    <tr>\n",
       "      <th>2296318</th>\n",
       "      <td>Peter Paul &amp; Mary</td>\n",
       "      <td>NaN</td>\n",
       "      <td>NaN</td>\n",
       "      <td>465</td>\n",
       "      <td>52.0</td>\n",
       "      <td>172669</td>\n",
       "      <td>UO8Y2MR2sjOn2q/Tp8/lzZTGKmLEvwZ20oWanG4XnYc=</td>\n",
       "    </tr>\n",
       "    <tr>\n",
       "      <th>2296319</th>\n",
       "      <td>Kim Robertson</td>\n",
       "      <td>NaN</td>\n",
       "      <td>NaN</td>\n",
       "      <td>829</td>\n",
       "      <td>52.0</td>\n",
       "      <td>270466</td>\n",
       "      <td>V/9qPSUOGT0FeIGBhDIZRRz5Y5yyjdXC2Z/+bJExo5s=</td>\n",
       "    </tr>\n",
       "  </tbody>\n",
       "</table>\n",
       "<p>2296320 rows × 7 columns</p>\n",
       "</div>"
      ],
      "text/plain": [
       "               artist_name                            composer     lyricist  \\\n",
       "0         張信哲 (Jeff Chang)                                  董貞          何啟弘   \n",
       "1                BLACKPINK  TEDDY|  FUTURE BOUNCE|  Bekuh BOOM        TEDDY   \n",
       "2             SUPER JUNIOR                                 NaN          NaN   \n",
       "3                    S.H.E                                 湯小康          徐世珍   \n",
       "4                     貴族精選                         Traditional  Traditional   \n",
       "...                    ...                                 ...          ...   \n",
       "2296315  Catherine Collard         Robert Schumann (1810-1856)          NaN   \n",
       "2296316  紀文惠 (Justine Chi)                                 NaN          NaN   \n",
       "2296317    Various Artists                                 NaN          NaN   \n",
       "2296318  Peter Paul & Mary                                 NaN          NaN   \n",
       "2296319      Kim Robertson                                 NaN          NaN   \n",
       "\n",
       "        genre_id  language  song_length  \\\n",
       "0            465       3.0       247640   \n",
       "1            444      31.0       197328   \n",
       "2            465      31.0       231781   \n",
       "3            465       3.0       273554   \n",
       "4            726      52.0       140329   \n",
       "...          ...       ...          ...   \n",
       "2296315      958      -1.0        20192   \n",
       "2296316      465       3.0       273391   \n",
       "2296317     1609      52.0       445172   \n",
       "2296318      465      52.0       172669   \n",
       "2296319      829      52.0       270466   \n",
       "\n",
       "                                              song_id  \n",
       "0        CXoTN1eb7AI+DntdU1vbcwGRV4SCIDxZu+YD8JP8r4E=  \n",
       "1        o0kFgae9QtnYgRkVPqLJwa05zIhRlUjfF7O1tDw0ZDU=  \n",
       "2        DwVvVurfpuz+XPuFvucclVQEyPqcpUkHR0ne1RQzPs0=  \n",
       "3        dKMBWoZyScdxSkihKG+Vf47nc18N9q4m58+b4e7dSSE=  \n",
       "4        W3bqWd3T+VeHFzHAUfARgW9AvVRaF4N5Yzm4Mr6Eo/o=  \n",
       "...                                               ...  \n",
       "2296315  lg6rn7eV/ZNg0+P+x77kHUL7GDMfoL4eMtXxncseLNA=  \n",
       "2296316  nXi1lrSJe+gLoTTNky7If0mNPrIyCQCLwagwR6XopGU=  \n",
       "2296317  9KxSvIjbJyJzfEVWnkMbgR6dyn6d54ot0N5FKyKqii8=  \n",
       "2296318  UO8Y2MR2sjOn2q/Tp8/lzZTGKmLEvwZ20oWanG4XnYc=  \n",
       "2296319  V/9qPSUOGT0FeIGBhDIZRRz5Y5yyjdXC2Z/+bJExo5s=  \n",
       "\n",
       "[2296320 rows x 7 columns]"
      ]
     },
     "execution_count": 10,
     "metadata": {},
     "output_type": "execute_result"
    }
   ],
   "source": [
    "raw"
   ]
  },
  {
   "cell_type": "code",
   "execution_count": 11,
   "id": "3ed62376-bfae-427b-b0d4-0622a7115989",
   "metadata": {},
   "outputs": [],
   "source": [
    "import re\n",
    "\n",
    "def only_letters(tested_string):\n",
    "    match = re.match(\"^[a-zA-Z]*$\", str(tested_string))\n",
    "    return match is not None\n",
    "def only_numbers(tested_string):\n",
    "    match = re.match(\"^[0-9]*$\", str(tested_string))\n",
    "    return match is not None"
   ]
  },
  {
   "cell_type": "code",
   "execution_count": null,
   "id": "2a9e5300-8065-4f85-b413-a7c823ddcce3",
   "metadata": {},
   "outputs": [],
   "source": [
    "raw['artist_name'] = raw[raw['artist_name'].apply(only_letters)]['artist_name']\n",
    "raw['lyricist'] = raw[raw['lyricist'].apply(only_letters)]['lyricist']\n",
    "raw['composer'] = raw[raw['composer'].apply(only_letters)]['composer']\n",
    "raw['genre_id'] = raw[raw['genre_id'].apply(only_numbers)]['genre_id']"
   ]
  },
  {
   "cell_type": "code",
   "execution_count": null,
   "id": "764cb6fe-abf2-444b-9b06-2d3477436d34",
   "metadata": {},
   "outputs": [],
   "source": [
    "raw"
   ]
  },
  {
   "cell_type": "markdown",
   "id": "80e9b357-2eb4-456c-8bba-3df8c2533692",
   "metadata": {},
   "source": [
    "We are working with a truly massive dataset, and to allocate enough memory to run an MCA on even just raw cat would take over 1.4 TiB\n",
    "so lets drop everything with an NA"
   ]
  },
  {
   "cell_type": "code",
   "execution_count": null,
   "id": "f2d818b5-f860-4991-b4ac-c32528a4f927",
   "metadata": {},
   "outputs": [],
   "source": [
    "raw.dropna(axis=0, how='any', inplace=True)"
   ]
  },
  {
   "cell_type": "code",
   "execution_count": null,
   "id": "b5060db1-1cf2-475e-a069-f924fe70f9aa",
   "metadata": {},
   "outputs": [],
   "source": [
    "raw"
   ]
  },
  {
   "cell_type": "code",
   "execution_count": null,
   "id": "4513d077-e960-4d99-a22a-929868c698e3",
   "metadata": {},
   "outputs": [],
   "source": [
    "raw = raw[(raw.artist_name != 'Various Artists') & (raw.artist_name != 'Various')]\n",
    "raw = raw[raw.language != -1]"
   ]
  },
  {
   "cell_type": "markdown",
   "id": "4d857f91-af8f-40f2-9f15-5db7569ae31f",
   "metadata": {},
   "source": [
    "One other way to reduce the number of categories for MCA is to filter our dataframe by the top 1000 artists"
   ]
  },
  {
   "cell_type": "code",
   "execution_count": null,
   "id": "5e0defb7-cdba-4d38-b943-a562aac9b480",
   "metadata": {},
   "outputs": [],
   "source": [
    "num_artists=100\n",
    "num_composers=500\n",
    "num_lyricists=500\n",
    "num_genres=500\n",
    "num_languages=3"
   ]
  },
  {
   "cell_type": "code",
   "execution_count": null,
   "id": "764f3fb9-0fb4-4a92-812a-f8c1d3adb9f4",
   "metadata": {},
   "outputs": [],
   "source": [
    "raw"
   ]
  },
  {
   "cell_type": "code",
   "execution_count": null,
   "id": "66866372-fd5a-4f51-9ad2-86267dd55015",
   "metadata": {},
   "outputs": [],
   "source": [
    "raw = raw[raw.artist_name.isin(raw['artist_name'].value_counts(sort=True).index.tolist()[:num_artists])]\n",
    "raw = raw[raw.composer.isin(raw['composer'].value_counts(sort=True).index.tolist()[:num_composers])]\n",
    "raw = raw[raw.lyricist.isin(raw['lyricist'].value_counts(sort=True).index.tolist()[:num_lyricists])]\n",
    "raw = raw[raw.genre_id.isin(raw['genre_id'].value_counts(sort=True).index.tolist()[:num_genres])]\n",
    "raw = raw[raw.language.isin(raw['language'].value_counts(sort=True).index.tolist()[:num_languages])]"
   ]
  },
  {
   "cell_type": "code",
   "execution_count": null,
   "id": "39512dce-d933-4ac1-af34-3d738f0fbaca",
   "metadata": {},
   "outputs": [],
   "source": [
    "raw"
   ]
  },
  {
   "cell_type": "code",
   "execution_count": null,
   "id": "3f90cfb4-03d2-412d-921d-984f1f65c3f9",
   "metadata": {},
   "outputs": [],
   "source": [
    "raw.artist_name.unique()"
   ]
  },
  {
   "cell_type": "code",
   "execution_count": null,
   "id": "425caf86-528d-40a7-9735-8120fa7c0ea1",
   "metadata": {},
   "outputs": [],
   "source": [
    "raw.composer.unique()"
   ]
  },
  {
   "cell_type": "code",
   "execution_count": null,
   "id": "930d69e0-4804-4fdd-8d4e-2cc95972e342",
   "metadata": {},
   "outputs": [],
   "source": [
    "raw.lyricist.unique()"
   ]
  },
  {
   "cell_type": "code",
   "execution_count": null,
   "id": "718a87ba-99fa-4d66-a9d0-ed5b0b8a0341",
   "metadata": {},
   "outputs": [],
   "source": [
    "raw.genre_id.unique()"
   ]
  },
  {
   "cell_type": "code",
   "execution_count": null,
   "id": "c0a2e429-6349-444c-befd-90de95f5f4f0",
   "metadata": {},
   "outputs": [],
   "source": [
    "raw.language.unique()"
   ]
  },
  {
   "cell_type": "code",
   "execution_count": null,
   "id": "ecccb2f3-8e62-42f0-ba66-780c4f9d8e9c",
   "metadata": {},
   "outputs": [],
   "source": [
    "import prince\n",
    "famd = prince.FAMD(\n",
    "    n_components=3,\n",
    "    n_iter=5,\n",
    "    copy=True,\n",
    "    check_input=True,\n",
    "    engine='auto',\n",
    "    random_state=42\n",
    ")\n",
    "famd = famd.fit(raw.drop(['song_length', 'song_id'], axis='columns'))"
   ]
  },
  {
   "cell_type": "code",
   "execution_count": null,
   "id": "ea63c8ca-47dd-424d-abbd-e585e771d962",
   "metadata": {},
   "outputs": [],
   "source": [
    "raw"
   ]
  },
  {
   "cell_type": "code",
   "execution_count": null,
   "id": "f89e58a4-ce73-43c6-96db-be38e3abbbae",
   "metadata": {},
   "outputs": [],
   "source": [
    "famd.row_coordinates(raw)"
   ]
  },
  {
   "cell_type": "code",
   "execution_count": null,
   "id": "dfc2806a-85ff-4859-93f5-cae818b623fb",
   "metadata": {},
   "outputs": [],
   "source": [
    "ax = famd.plot_row_coordinates(\n",
    "    X = raw,\n",
    "    ax=None,\n",
    "    figsize=(6,6),\n",
    "    x_component=0,\n",
    "    y_component=2,\n",
    "    color_labels=[\"Artist: {}\".format(t) for t in raw[\"artist_name\"]],\n",
    "    ellipse_outline=False,\n",
    "    ellipse_fill=True,\n",
    "    show_points=True\n",
    ")"
   ]
  },
  {
   "cell_type": "code",
   "execution_count": null,
   "id": "fc010423-b7e9-40d4-aea4-f033c07d2afc",
   "metadata": {},
   "outputs": [],
   "source": [
    "ax.get_figure().savefig('famd_row_coordinates.svg')"
   ]
  },
  {
   "cell_type": "code",
   "execution_count": null,
   "id": "2a9bab62-4781-456e-9e8b-317c64098705",
   "metadata": {},
   "outputs": [],
   "source": [
    "famd.eigenvalues_"
   ]
  },
  {
   "cell_type": "code",
   "execution_count": null,
   "id": "8a242cf4-91d2-4c05-ad3c-e5449806c1d3",
   "metadata": {},
   "outputs": [],
   "source": [
    "famd.column_correlations(raw)"
   ]
  },
  {
   "cell_type": "code",
   "execution_count": null,
   "id": "1b6c79b9-1a7b-41fa-965f-a5d0f0796da4",
   "metadata": {},
   "outputs": [],
   "source": [
    "import scipy\n",
    "import scipy.cluster.hierarchy as sch"
   ]
  },
  {
   "cell_type": "code",
   "execution_count": null,
   "id": "fd5c9c8e-2057-4e47-829f-7806bada831b",
   "metadata": {},
   "outputs": [],
   "source": [
    "from sklearn.preprocessing import LabelEncoder\n",
    "le = LabelEncoder()\n",
    "encoded = pd.DataFrame()\n",
    "for colname in raw.columns:\n",
    "    if colname == \"song_id\":\n",
    "        continue\n",
    "    elif colname == 'song_length':\n",
    "        continue\n",
    "    else:\n",
    "        encoded[colname] = le.fit_transform(raw[colname])"
   ]
  },
  {
   "cell_type": "code",
   "execution_count": null,
   "id": "22c81708-5785-4332-a8e3-1e36d5924869",
   "metadata": {},
   "outputs": [],
   "source": [
    "encoded[\"song_id\"] = raw.song_id.values\n",
    "encoded[\"song_length\"] = raw.song_length.values"
   ]
  },
  {
   "cell_type": "code",
   "execution_count": null,
   "id": "78b042fe-18dd-49e4-8c38-8d1b13c9b474",
   "metadata": {},
   "outputs": [],
   "source": [
    "encoded.song_id"
   ]
  },
  {
   "cell_type": "code",
   "execution_count": null,
   "id": "2a4c8d90-5038-4440-b9b5-8aba6c7a165d",
   "metadata": {},
   "outputs": [],
   "source": [
    "encoded"
   ]
  },
  {
   "cell_type": "code",
   "execution_count": null,
   "id": "a25b9e7c-9391-4f19-bad6-2d2b02365c87",
   "metadata": {},
   "outputs": [],
   "source": [
    "d = sch.distance.pdist(encoded.drop(['song_id', 'song_length'], axis=1), 'hamming')"
   ]
  },
  {
   "cell_type": "code",
   "execution_count": null,
   "id": "20b868f8-c9a0-456d-93b3-21ded8916b89",
   "metadata": {},
   "outputs": [],
   "source": [
    "L = sch.linkage(d, method='complete')"
   ]
  },
  {
   "cell_type": "code",
   "execution_count": null,
   "id": "f75d7191-128b-4b23-bee2-e1764b5b1f38",
   "metadata": {},
   "outputs": [],
   "source": [
    "ind = sch.fcluster(L, t=0.9, criterion='distance')"
   ]
  },
  {
   "cell_type": "code",
   "execution_count": null,
   "id": "c8ccddc1-33be-469a-b7ad-33053ce9ab4c",
   "metadata": {},
   "outputs": [],
   "source": [
    "ind"
   ]
  },
  {
   "cell_type": "code",
   "execution_count": null,
   "id": "0556a3c3-a864-4f59-8fad-69b4c47b10c7",
   "metadata": {},
   "outputs": [],
   "source": [
    "np.unique(ind)"
   ]
  },
  {
   "cell_type": "code",
   "execution_count": null,
   "id": "085e9764-d2c4-472e-88ea-1068a36cf543",
   "metadata": {},
   "outputs": [],
   "source": [
    "import matplotlib.pyplot as plt\n",
    "\n",
    "plt.figure(figsize=(15, 15))\n",
    "dn = sch.dendrogram(L, p=7, truncate_mode='level')\n",
    "sch.set_link_color_palette(['m', 'c', 'y', 'k'])\n",
    "sch.set_link_color_palette(None)  # reset to default after use\n",
    "plt.show()"
   ]
  },
  {
   "cell_type": "code",
   "execution_count": null,
   "id": "9140dd86-7c3b-4982-b2b0-f2012aaa7ace",
   "metadata": {},
   "outputs": [],
   "source": [
    "cluster_memberships = pd.DataFrame({\"song_id\": raw[\"song_id\"], \"cluster_membership\": ind})"
   ]
  },
  {
   "cell_type": "code",
   "execution_count": null,
   "id": "619374a5-a0d2-4cdc-9ac7-28611c0f028c",
   "metadata": {},
   "outputs": [],
   "source": [
    "cluster_memberships"
   ]
  }
 ],
 "metadata": {
  "kernelspec": {
   "display_name": "python_base",
   "language": "python",
   "name": "python_base"
  },
  "language_info": {
   "codemirror_mode": {
    "name": "ipython",
    "version": 3
   },
   "file_extension": ".py",
   "mimetype": "text/x-python",
   "name": "python",
   "nbconvert_exporter": "python",
   "pygments_lexer": "ipython3",
   "version": "3.9.4"
  }
 },
 "nbformat": 4,
 "nbformat_minor": 5
}
